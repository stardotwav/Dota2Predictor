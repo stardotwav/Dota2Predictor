{
 "cells": [
  {
   "cell_type": "markdown",
   "id": "4a4083cb",
   "metadata": {},
   "source": [
    "## Base de Dados\n",
    "A base de dados conta com registros de partidas profissionais de Dota 2, contendo o número de identificador de cada personagem selecionado e a taxa de vitória desse personagem selecionado."
   ]
  },
  {
   "cell_type": "code",
   "execution_count": 1,
   "id": "7cbedb9d",
   "metadata": {},
   "outputs": [
    {
     "data": {
      "text/html": [
       "<div>\n",
       "<style scoped>\n",
       "    .dataframe tbody tr th:only-of-type {\n",
       "        vertical-align: middle;\n",
       "    }\n",
       "\n",
       "    .dataframe tbody tr th {\n",
       "        vertical-align: top;\n",
       "    }\n",
       "\n",
       "    .dataframe thead th {\n",
       "        text-align: right;\n",
       "    }\n",
       "</style>\n",
       "<table border=\"1\" class=\"dataframe\">\n",
       "  <thead>\n",
       "    <tr style=\"text-align: right;\">\n",
       "      <th></th>\n",
       "      <th>winner</th>\n",
       "      <th>pick1</th>\n",
       "      <th>taxavitoria1</th>\n",
       "      <th>pick2</th>\n",
       "      <th>taxavitoria2</th>\n",
       "      <th>pick3</th>\n",
       "      <th>taxavitoria3</th>\n",
       "      <th>pick4</th>\n",
       "      <th>taxavitoria4</th>\n",
       "      <th>pick5</th>\n",
       "      <th>...</th>\n",
       "      <th>pick6</th>\n",
       "      <th>taxavitoria6</th>\n",
       "      <th>pick7</th>\n",
       "      <th>taxavitoria7</th>\n",
       "      <th>pick8</th>\n",
       "      <th>taxavitoria8</th>\n",
       "      <th>pick9</th>\n",
       "      <th>taxavitoria9</th>\n",
       "      <th>pick10</th>\n",
       "      <th>taxavitoria10</th>\n",
       "    </tr>\n",
       "  </thead>\n",
       "  <tbody>\n",
       "    <tr>\n",
       "      <th>0</th>\n",
       "      <td>1</td>\n",
       "      <td>103</td>\n",
       "      <td>48.71</td>\n",
       "      <td>137</td>\n",
       "      <td>47.80</td>\n",
       "      <td>40</td>\n",
       "      <td>56.34</td>\n",
       "      <td>53</td>\n",
       "      <td>38.84</td>\n",
       "      <td>86</td>\n",
       "      <td>...</td>\n",
       "      <td>52</td>\n",
       "      <td>46.11</td>\n",
       "      <td>106</td>\n",
       "      <td>52.82</td>\n",
       "      <td>32</td>\n",
       "      <td>47.60</td>\n",
       "      <td>51</td>\n",
       "      <td>49.86</td>\n",
       "      <td>89</td>\n",
       "      <td>54.47</td>\n",
       "    </tr>\n",
       "    <tr>\n",
       "      <th>1</th>\n",
       "      <td>0</td>\n",
       "      <td>48</td>\n",
       "      <td>53.33</td>\n",
       "      <td>11</td>\n",
       "      <td>46.33</td>\n",
       "      <td>128</td>\n",
       "      <td>47.00</td>\n",
       "      <td>110</td>\n",
       "      <td>47.69</td>\n",
       "      <td>85</td>\n",
       "      <td>...</td>\n",
       "      <td>30</td>\n",
       "      <td>45.32</td>\n",
       "      <td>100</td>\n",
       "      <td>50.84</td>\n",
       "      <td>45</td>\n",
       "      <td>46.77</td>\n",
       "      <td>105</td>\n",
       "      <td>38.84</td>\n",
       "      <td>53</td>\n",
       "      <td>51.87</td>\n",
       "    </tr>\n",
       "    <tr>\n",
       "      <th>2</th>\n",
       "      <td>0</td>\n",
       "      <td>54</td>\n",
       "      <td>46.68</td>\n",
       "      <td>120</td>\n",
       "      <td>45.35</td>\n",
       "      <td>69</td>\n",
       "      <td>43.66</td>\n",
       "      <td>123</td>\n",
       "      <td>46.02</td>\n",
       "      <td>58</td>\n",
       "      <td>...</td>\n",
       "      <td>18</td>\n",
       "      <td>48.71</td>\n",
       "      <td>65</td>\n",
       "      <td>47.70</td>\n",
       "      <td>96</td>\n",
       "      <td>51.74</td>\n",
       "      <td>86</td>\n",
       "      <td>49.88</td>\n",
       "      <td>91</td>\n",
       "      <td>51.34</td>\n",
       "    </tr>\n",
       "    <tr>\n",
       "      <th>3</th>\n",
       "      <td>0</td>\n",
       "      <td>136</td>\n",
       "      <td>47.02</td>\n",
       "      <td>74</td>\n",
       "      <td>48.71</td>\n",
       "      <td>108</td>\n",
       "      <td>49.49</td>\n",
       "      <td>10</td>\n",
       "      <td>45.52</td>\n",
       "      <td>86</td>\n",
       "      <td>...</td>\n",
       "      <td>43</td>\n",
       "      <td>50.69</td>\n",
       "      <td>100</td>\n",
       "      <td>48.13</td>\n",
       "      <td>46</td>\n",
       "      <td>45.32</td>\n",
       "      <td>75</td>\n",
       "      <td>52.01</td>\n",
       "      <td>53</td>\n",
       "      <td>38.84</td>\n",
       "    </tr>\n",
       "    <tr>\n",
       "      <th>4</th>\n",
       "      <td>1</td>\n",
       "      <td>85</td>\n",
       "      <td>53.33</td>\n",
       "      <td>25</td>\n",
       "      <td>46.33</td>\n",
       "      <td>128</td>\n",
       "      <td>42.92</td>\n",
       "      <td>129</td>\n",
       "      <td>46.54</td>\n",
       "      <td>70</td>\n",
       "      <td>...</td>\n",
       "      <td>6</td>\n",
       "      <td>51.39</td>\n",
       "      <td>22</td>\n",
       "      <td>47.69</td>\n",
       "      <td>137</td>\n",
       "      <td>47.80</td>\n",
       "      <td>110</td>\n",
       "      <td>47.90</td>\n",
       "      <td>5</td>\n",
       "      <td>45.87</td>\n",
       "    </tr>\n",
       "    <tr>\n",
       "      <th>...</th>\n",
       "      <td>...</td>\n",
       "      <td>...</td>\n",
       "      <td>...</td>\n",
       "      <td>...</td>\n",
       "      <td>...</td>\n",
       "      <td>...</td>\n",
       "      <td>...</td>\n",
       "      <td>...</td>\n",
       "      <td>...</td>\n",
       "      <td>...</td>\n",
       "      <td>...</td>\n",
       "      <td>...</td>\n",
       "      <td>...</td>\n",
       "      <td>...</td>\n",
       "      <td>...</td>\n",
       "      <td>...</td>\n",
       "      <td>...</td>\n",
       "      <td>...</td>\n",
       "      <td>...</td>\n",
       "      <td>...</td>\n",
       "      <td>...</td>\n",
       "    </tr>\n",
       "    <tr>\n",
       "      <th>1382</th>\n",
       "      <td>1</td>\n",
       "      <td>126</td>\n",
       "      <td>48.22</td>\n",
       "      <td>87</td>\n",
       "      <td>49.85</td>\n",
       "      <td>96</td>\n",
       "      <td>47.70</td>\n",
       "      <td>109</td>\n",
       "      <td>47.31</td>\n",
       "      <td>11</td>\n",
       "      <td>...</td>\n",
       "      <td>121</td>\n",
       "      <td>48.26</td>\n",
       "      <td>69</td>\n",
       "      <td>46.68</td>\n",
       "      <td>63</td>\n",
       "      <td>48.55</td>\n",
       "      <td>138</td>\n",
       "      <td>48.06</td>\n",
       "      <td>89</td>\n",
       "      <td>54.47</td>\n",
       "    </tr>\n",
       "    <tr>\n",
       "      <th>1383</th>\n",
       "      <td>1</td>\n",
       "      <td>73</td>\n",
       "      <td>51.31</td>\n",
       "      <td>33</td>\n",
       "      <td>49.16</td>\n",
       "      <td>85</td>\n",
       "      <td>53.33</td>\n",
       "      <td>96</td>\n",
       "      <td>47.70</td>\n",
       "      <td>21</td>\n",
       "      <td>...</td>\n",
       "      <td>68</td>\n",
       "      <td>51.28</td>\n",
       "      <td>75</td>\n",
       "      <td>52.01</td>\n",
       "      <td>129</td>\n",
       "      <td>42.92</td>\n",
       "      <td>8</td>\n",
       "      <td>46.56</td>\n",
       "      <td>106</td>\n",
       "      <td>49.86</td>\n",
       "    </tr>\n",
       "    <tr>\n",
       "      <th>1384</th>\n",
       "      <td>1</td>\n",
       "      <td>104</td>\n",
       "      <td>54.35</td>\n",
       "      <td>126</td>\n",
       "      <td>48.22</td>\n",
       "      <td>75</td>\n",
       "      <td>52.01</td>\n",
       "      <td>5</td>\n",
       "      <td>51.39</td>\n",
       "      <td>70</td>\n",
       "      <td>...</td>\n",
       "      <td>111</td>\n",
       "      <td>53.48</td>\n",
       "      <td>106</td>\n",
       "      <td>49.86</td>\n",
       "      <td>136</td>\n",
       "      <td>49.49</td>\n",
       "      <td>91</td>\n",
       "      <td>49.88</td>\n",
       "      <td>73</td>\n",
       "      <td>51.31</td>\n",
       "    </tr>\n",
       "    <tr>\n",
       "      <th>1385</th>\n",
       "      <td>0</td>\n",
       "      <td>73</td>\n",
       "      <td>51.31</td>\n",
       "      <td>94</td>\n",
       "      <td>54.30</td>\n",
       "      <td>90</td>\n",
       "      <td>49.96</td>\n",
       "      <td>2</td>\n",
       "      <td>50.44</td>\n",
       "      <td>59</td>\n",
       "      <td>...</td>\n",
       "      <td>62</td>\n",
       "      <td>53.93</td>\n",
       "      <td>14</td>\n",
       "      <td>49.12</td>\n",
       "      <td>86</td>\n",
       "      <td>48.71</td>\n",
       "      <td>87</td>\n",
       "      <td>49.85</td>\n",
       "      <td>120</td>\n",
       "      <td>50.21</td>\n",
       "    </tr>\n",
       "    <tr>\n",
       "      <th>1386</th>\n",
       "      <td>0</td>\n",
       "      <td>64</td>\n",
       "      <td>50.80</td>\n",
       "      <td>14</td>\n",
       "      <td>49.12</td>\n",
       "      <td>94</td>\n",
       "      <td>54.30</td>\n",
       "      <td>120</td>\n",
       "      <td>50.21</td>\n",
       "      <td>73</td>\n",
       "      <td>...</td>\n",
       "      <td>86</td>\n",
       "      <td>48.71</td>\n",
       "      <td>100</td>\n",
       "      <td>45.32</td>\n",
       "      <td>57</td>\n",
       "      <td>50.87</td>\n",
       "      <td>32</td>\n",
       "      <td>52.82</td>\n",
       "      <td>98</td>\n",
       "      <td>48.15</td>\n",
       "    </tr>\n",
       "  </tbody>\n",
       "</table>\n",
       "<p>1387 rows × 21 columns</p>\n",
       "</div>"
      ],
      "text/plain": [
       "      winner  pick1  taxavitoria1  pick2  taxavitoria2  pick3  taxavitoria3  \\\n",
       "0          1    103         48.71    137         47.80     40         56.34   \n",
       "1          0     48         53.33     11         46.33    128         47.00   \n",
       "2          0     54         46.68    120         45.35     69         43.66   \n",
       "3          0    136         47.02     74         48.71    108         49.49   \n",
       "4          1     85         53.33     25         46.33    128         42.92   \n",
       "...      ...    ...           ...    ...           ...    ...           ...   \n",
       "1382       1    126         48.22     87         49.85     96         47.70   \n",
       "1383       1     73         51.31     33         49.16     85         53.33   \n",
       "1384       1    104         54.35    126         48.22     75         52.01   \n",
       "1385       0     73         51.31     94         54.30     90         49.96   \n",
       "1386       0     64         50.80     14         49.12     94         54.30   \n",
       "\n",
       "      pick4  taxavitoria4  pick5  ...  pick6  taxavitoria6  pick7  \\\n",
       "0        53         38.84     86  ...     52         46.11    106   \n",
       "1       110         47.69     85  ...     30         45.32    100   \n",
       "2       123         46.02     58  ...     18         48.71     65   \n",
       "3        10         45.52     86  ...     43         50.69    100   \n",
       "4       129         46.54     70  ...      6         51.39     22   \n",
       "...     ...           ...    ...  ...    ...           ...    ...   \n",
       "1382    109         47.31     11  ...    121         48.26     69   \n",
       "1383     96         47.70     21  ...     68         51.28     75   \n",
       "1384      5         51.39     70  ...    111         53.48    106   \n",
       "1385      2         50.44     59  ...     62         53.93     14   \n",
       "1386    120         50.21     73  ...     86         48.71    100   \n",
       "\n",
       "      taxavitoria7  pick8  taxavitoria8  pick9  taxavitoria9  pick10  \\\n",
       "0            52.82     32         47.60     51         49.86      89   \n",
       "1            50.84     45         46.77    105         38.84      53   \n",
       "2            47.70     96         51.74     86         49.88      91   \n",
       "3            48.13     46         45.32     75         52.01      53   \n",
       "4            47.69    137         47.80    110         47.90       5   \n",
       "...            ...    ...           ...    ...           ...     ...   \n",
       "1382         46.68     63         48.55    138         48.06      89   \n",
       "1383         52.01    129         42.92      8         46.56     106   \n",
       "1384         49.86    136         49.49     91         49.88      73   \n",
       "1385         49.12     86         48.71     87         49.85     120   \n",
       "1386         45.32     57         50.87     32         52.82      98   \n",
       "\n",
       "      taxavitoria10  \n",
       "0             54.47  \n",
       "1             51.87  \n",
       "2             51.34  \n",
       "3             38.84  \n",
       "4             45.87  \n",
       "...             ...  \n",
       "1382          54.47  \n",
       "1383          49.86  \n",
       "1384          51.31  \n",
       "1385          50.21  \n",
       "1386          48.15  \n",
       "\n",
       "[1387 rows x 21 columns]"
      ]
     },
     "execution_count": 1,
     "metadata": {},
     "output_type": "execute_result"
    }
   ],
   "source": [
    "import pandas as pd\n",
    "import numpy as np\n",
    "import matplotlib.pyplot as plt\n",
    "import seaborn as sns\n",
    "\n",
    "# variável usada para remover warnings do jupyter notebook\n",
    "import warnings\n",
    "warnings.filterwarnings('ignore')\n",
    "\n",
    "# leitura e transformação do arquivo em dataframe\n",
    "dados = pd.read_csv('dadospartidaspro.csv')\n",
    "dados = dados.drop_duplicates()\n",
    "\n",
    "dados = dados.drop(columns=['Unnamed: 0', 'id', 'rank1', 'rank2', 'rank3', 'rank4', 'rank5', 'rank6', 'rank7', 'rank8', \n",
    "                            'rank9', 'rank10'])\n",
    "dados['winner'] = dados['winner'].apply(lambda item: 1 if item == 'radiant' else 0)\n",
    "dados"
   ]
  },
  {
   "cell_type": "markdown",
   "id": "f0514505",
   "metadata": {},
   "source": [
    "## Escolha do Melhor Algoritmo\n",
    "Para a escolha do melhor algoritmo foram utilizados de diversos algoritmos explorados na literatura, de forma que foi calculado sua acurácia e sua precisão. O algoritmo com melhor precisão foi escolhido e a partir disso feito um ajuste dos parâmetros para determinar a melhor precisão possível para o problema.\n",
    "\n",
    "Melhor Algoritmo Escolhido:\n",
    "Precisão e Acurácia:\n",
    "Precisão e Acurácia depois do Ajuste de Parâmetros:"
   ]
  },
  {
   "cell_type": "markdown",
   "id": "68782f6b",
   "metadata": {},
   "source": [
    "### Funções Auxiliares\n",
    "Para auxiliar nos cálculos necessários de verificação dos algoritmos foram desenvolvidas algumas funções que realizam o cálculo e impressão das métricas, separação do conjunto de teste, entre outras questões, como por exemplo salvar os dados no framework MLFlow, que facilitou a leitura a verificação dos melhores resultados."
   ]
  },
  {
   "cell_type": "code",
   "execution_count": 2,
   "id": "35e6ce1e",
   "metadata": {},
   "outputs": [],
   "source": [
    "import mlflow\n",
    "import mlflow.sklearn\n",
    "import os\n",
    "\n",
    "# função auxiliar para criar um experimento no mlflow\n",
    "def criarExperimento():\n",
    "    # variáveis de conexão com o mlflow\n",
    "    os.environ['MLFLOW_TRACKING_URI'] = \"https://dagshub.com/stardotwav/Dota2Predictor.mlflow\"\n",
    "    os.environ['MLFLOW_TRACKING_USERNAME'] = \"stardotwav\"\n",
    "    os.environ['MLFLOW_TRACKING_PASSWORD'] = \"7dcb76dec399290fb3a125d02a9a7b39e2c03d90\"\n",
    "    \n",
    "    mlflow.set_tracking_uri(os.environ['MLFLOW_TRACKING_URI'])\n",
    "    mlflow.set_experiment(experiment_name='Personagens Selecionados e Taxa de Vitória')\n",
    "\n",
    "    tags = {\n",
    "            \"Projeto\": \"Projeto de Engenharia de Aprendizado de Máquina\",\n",
    "            \"team\": \"Estela\",\n",
    "            \"dataset\": \"dota2teamsprofessionals\"\n",
    "           }"
   ]
  },
  {
   "cell_type": "code",
   "execution_count": 3,
   "id": "572aa66e",
   "metadata": {},
   "outputs": [],
   "source": [
    "# função auxiliar que salva os dados no MLFlow\n",
    "def modelosMLFlow(acuracia, modelo, nomeModelo):\n",
    "    with  mlflow.start_run(run_name=nomeModelo):\n",
    "        # registro das métricas\n",
    "        mlflow.log_metric(\"Acurácia\", acuracia)\n",
    "        \n",
    "        # registro do modelo\n",
    "        mlflow.sklearn.log_model(modelo, \"Modelo\")\n",
    "        mlflow.end_run()"
   ]
  },
  {
   "cell_type": "code",
   "execution_count": 3,
   "id": "44ee8ac0",
   "metadata": {},
   "outputs": [],
   "source": [
    "# import utilizado para realizar a separação do treino e teste\n",
    "from sklearn.model_selection import train_test_split\n",
    "\n",
    "# função auxiliar que realiza a separação do dataset em treino e teste\n",
    "def separacaoModelo(dataset, target):\n",
    "    X = dataset.drop(target, axis=1)\n",
    "    Y = dataset[target]\n",
    "    xTrain, xTest, yTrain, yTest = train_test_split(X, Y, test_size=0.2, random_state=42)\n",
    "    \n",
    "    return xTrain, xTest, yTrain, yTest"
   ]
  },
  {
   "cell_type": "code",
   "execution_count": 2,
   "id": "6083780f",
   "metadata": {},
   "outputs": [],
   "source": [
    "# import de algoritmos utilizados\n",
    "from sklearn.linear_model import LogisticRegression\n",
    "from sklearn.ensemble import RandomForestClassifier\n",
    "from sklearn.ensemble import ExtraTreesClassifier\n",
    "from sklearn.tree import DecisionTreeClassifier\n",
    "from sklearn.neighbors import KNeighborsClassifier\n",
    "from sklearn.naive_bayes import GaussianNB\n",
    "from sklearn.ensemble import AdaBoostClassifier\n",
    "from sklearn.neural_network import MLPClassifier\n",
    "from sklearn.svm import SVC\n",
    "\n",
    "# função auxiliar que gerar qualquer modelo de acordo com seu nome\n",
    "def gerarModelo(xTrain, xTest, yTrain, yTest, modelo):\n",
    "    md = modelo\n",
    "    md.fit(xTrain, yTrain)\n",
    "    pred = md.predict(xTest)\n",
    "    \n",
    "    return md, pred"
   ]
  },
  {
   "cell_type": "code",
   "execution_count": 6,
   "id": "5b76990d",
   "metadata": {},
   "outputs": [],
   "source": [
    "# import do cross_validation\n",
    "from sklearn.model_selection import cross_val_score\n",
    "\n",
    "# grafico que gera comparação entre diversos algoritmos\n",
    "def graficoComparacao(algoritmos, nomes, x, y):\n",
    "    scores = {}\n",
    "    cont = 0\n",
    "    for i in algoritmos:\n",
    "        scores[nomes[cont]] = cross_val_score(i, x, y, cv=30)\n",
    "        cont += 1\n",
    "\n",
    "    scores = pd.DataFrame.from_dict(scores)\n",
    "    plt.figure(figsize = (15,10))\n",
    "    sns.set(font_scale=1.7)\n",
    "    sns.boxplot(data=scores, palette='rocket')"
   ]
  },
  {
   "cell_type": "markdown",
   "id": "0f172cca",
   "metadata": {},
   "source": [
    "No experimento foi utilizado dos algoritmos:"
   ]
  },
  {
   "cell_type": "code",
   "execution_count": 4,
   "id": "dfe795c6",
   "metadata": {},
   "outputs": [],
   "source": [
    "# gerando base de dados\n",
    "xTrain, xTest, yTrain, yTest = separacaoModelo(dados, 'winner')"
   ]
  },
  {
   "cell_type": "code",
   "execution_count": 8,
   "id": "a6fb7983",
   "metadata": {},
   "outputs": [],
   "source": [
    "# criando experimento\n",
    "criarExperimento()"
   ]
  },
  {
   "cell_type": "code",
   "execution_count": 9,
   "id": "73ae0dce",
   "metadata": {},
   "outputs": [
    {
     "data": {
      "image/png": "[encoded data removed]",
      "text/plain": [
       "<Figure size 1500x1000 with 1 Axes>"
      ]
     },
     "metadata": {},
     "output_type": "display_data"
    }
   ],
   "source": [
    "algoritmos = [LogisticRegression(), DecisionTreeClassifier(), RandomForestClassifier(), KNeighborsClassifier(), GaussianNB()]\n",
    "nomes = ['LogisticRegression', 'DecisionTree', 'RandomForest', 'KNN', 'NaiveBayes']\n",
    "\n",
    "# gerando graficos de comparacao, usando do treino e do teste\n",
    "graficoComparacao(algoritmos, nomes, xTrain, yTrain)"
   ]
  },
  {
   "cell_type": "markdown",
   "id": "3f51769c",
   "metadata": {},
   "source": [
    "### Decision Tree"
   ]
  },
  {
   "cell_type": "code",
   "execution_count": 10,
   "id": "ac10c5ac",
   "metadata": {},
   "outputs": [
    {
     "data": {
      "text/html": [
       "<style>#sk-container-id-1 {color: black;background-color: white;}#sk-container-id-1 pre{padding: 0;}#sk-container-id-1 div.sk-toggleable {background-color: white;}#sk-container-id-1 label.sk-toggleable__label {cursor: pointer;display: block;width: 100%;margin-bottom: 0;padding: 0.3em;box-sizing: border-box;text-align: center;}#sk-container-id-1 label.sk-toggleable__label-arrow:before {content: \"▸\";float: left;margin-right: 0.25em;color: #696969;}#sk-container-id-1 label.sk-toggleable__label-arrow:hover:before {color: black;}#sk-container-id-1 div.sk-estimator:hover label.sk-toggleable__label-arrow:before {color: black;}#sk-container-id-1 div.sk-toggleable__content {max-height: 0;max-width: 0;overflow: hidden;text-align: left;background-color: #f0f8ff;}#sk-container-id-1 div.sk-toggleable__content pre {margin: 0.2em;color: black;border-radius: 0.25em;background-color: #f0f8ff;}#sk-container-id-1 input.sk-toggleable__control:checked~div.sk-toggleable__content {max-height: 200px;max-width: 100%;overflow: auto;}#sk-container-id-1 input.sk-toggleable__control:checked~label.sk-toggleable__label-arrow:before {content: \"▾\";}#sk-container-id-1 div.sk-estimator input.sk-toggleable__control:checked~label.sk-toggleable__label {background-color: #d4ebff;}#sk-container-id-1 div.sk-label input.sk-toggleable__control:checked~label.sk-toggleable__label {background-color: #d4ebff;}#sk-container-id-1 input.sk-hidden--visually {border: 0;clip: rect(1px 1px 1px 1px);clip: rect(1px, 1px, 1px, 1px);height: 1px;margin: -1px;overflow: hidden;padding: 0;position: absolute;width: 1px;}#sk-container-id-1 div.sk-estimator {font-family: monospace;background-color: #f0f8ff;border: 1px dotted black;border-radius: 0.25em;box-sizing: border-box;margin-bottom: 0.5em;}#sk-container-id-1 div.sk-estimator:hover {background-color: #d4ebff;}#sk-container-id-1 div.sk-parallel-item::after {content: \"\";width: 100%;border-bottom: 1px solid gray;flex-grow: 1;}#sk-container-id-1 div.sk-label:hover label.sk-toggleable__label {background-color: #d4ebff;}#sk-container-id-1 div.sk-serial::before {content: \"\";position: absolute;border-left: 1px solid gray;box-sizing: border-box;top: 0;bottom: 0;left: 50%;z-index: 0;}#sk-container-id-1 div.sk-serial {display: flex;flex-direction: column;align-items: center;background-color: white;padding-right: 0.2em;padding-left: 0.2em;position: relative;}#sk-container-id-1 div.sk-item {position: relative;z-index: 1;}#sk-container-id-1 div.sk-parallel {display: flex;align-items: stretch;justify-content: center;background-color: white;position: relative;}#sk-container-id-1 div.sk-item::before, #sk-container-id-1 div.sk-parallel-item::before {content: \"\";position: absolute;border-left: 1px solid gray;box-sizing: border-box;top: 0;bottom: 0;left: 50%;z-index: -1;}#sk-container-id-1 div.sk-parallel-item {display: flex;flex-direction: column;z-index: 1;position: relative;background-color: white;}#sk-container-id-1 div.sk-parallel-item:first-child::after {align-self: flex-end;width: 50%;}#sk-container-id-1 div.sk-parallel-item:last-child::after {align-self: flex-start;width: 50%;}#sk-container-id-1 div.sk-parallel-item:only-child::after {width: 0;}#sk-container-id-1 div.sk-dashed-wrapped {border: 1px dashed gray;margin: 0 0.4em 0.5em 0.4em;box-sizing: border-box;padding-bottom: 0.4em;background-color: white;}#sk-container-id-1 div.sk-label label {font-family: monospace;font-weight: bold;display: inline-block;line-height: 1.2em;}#sk-container-id-1 div.sk-label-container {text-align: center;}#sk-container-id-1 div.sk-container {/* jupyter's `normalize.less` sets `[hidden] { display: none; }` but bootstrap.min.css set `[hidden] { display: none !important; }` so we also need the `!important` here to be able to override the default hidden behavior on the sphinx rendered scikit-learn.org. See: https://github.com/scikit-learn/scikit-learn/issues/21755 */display: inline-block !important;position: relative;}#sk-container-id-1 div.sk-text-repr-fallback {display: none;}</style><div id=\"sk-container-id-1\" class=\"sk-top-container\"><div class=\"sk-text-repr-fallback\"><pre>GridSearchCV(cv=10, estimator=DecisionTreeClassifier(random_state=42),\n",
       "             param_grid={&#x27;criterion&#x27;: [&#x27;entropy&#x27;, &#x27;gini&#x27;],\n",
       "                         &#x27;max_depth&#x27;: [None, 50, 100],\n",
       "                         &#x27;max_features&#x27;: [&#x27;auto&#x27;, &#x27;sqrt&#x27;, &#x27;log2&#x27;],\n",
       "                         &#x27;min_samples_split&#x27;: [2, 4, 6]},\n",
       "             scoring=&#x27;precision&#x27;)</pre><b>In a Jupyter environment, please rerun this cell to show the HTML representation or trust the notebook. <br />On GitHub, the HTML representation is unable to render, please try loading this page with nbviewer.org.</b></div><div class=\"sk-container\" hidden><div class=\"sk-item sk-dashed-wrapped\"><div class=\"sk-label-container\"><div class=\"sk-label sk-toggleable\"><input class=\"sk-toggleable__control sk-hidden--visually\" id=\"sk-estimator-id-1\" type=\"checkbox\" ><label for=\"sk-estimator-id-1\" class=\"sk-toggleable__label sk-toggleable__label-arrow\">GridSearchCV</label><div class=\"sk-toggleable__content\"><pre>GridSearchCV(cv=10, estimator=DecisionTreeClassifier(random_state=42),\n",
       "             param_grid={&#x27;criterion&#x27;: [&#x27;entropy&#x27;, &#x27;gini&#x27;],\n",
       "                         &#x27;max_depth&#x27;: [None, 50, 100],\n",
       "                         &#x27;max_features&#x27;: [&#x27;auto&#x27;, &#x27;sqrt&#x27;, &#x27;log2&#x27;],\n",
       "                         &#x27;min_samples_split&#x27;: [2, 4, 6]},\n",
       "             scoring=&#x27;precision&#x27;)</pre></div></div></div><div class=\"sk-parallel\"><div class=\"sk-parallel-item\"><div class=\"sk-item\"><div class=\"sk-label-container\"><div class=\"sk-label sk-toggleable\"><input class=\"sk-toggleable__control sk-hidden--visually\" id=\"sk-estimator-id-2\" type=\"checkbox\" ><label for=\"sk-estimator-id-2\" class=\"sk-toggleable__label sk-toggleable__label-arrow\">estimator: DecisionTreeClassifier</label><div class=\"sk-toggleable__content\"><pre>DecisionTreeClassifier(random_state=42)</pre></div></div></div><div class=\"sk-serial\"><div class=\"sk-item\"><div class=\"sk-estimator sk-toggleable\"><input class=\"sk-toggleable__control sk-hidden--visually\" id=\"sk-estimator-id-3\" type=\"checkbox\" ><label for=\"sk-estimator-id-3\" class=\"sk-toggleable__label sk-toggleable__label-arrow\">DecisionTreeClassifier</label><div class=\"sk-toggleable__content\"><pre>DecisionTreeClassifier(random_state=42)</pre></div></div></div></div></div></div></div></div></div></div>"
      ],
      "text/plain": [
       "GridSearchCV(cv=10, estimator=DecisionTreeClassifier(random_state=42),\n",
       "             param_grid={'criterion': ['entropy', 'gini'],\n",
       "                         'max_depth': [None, 50, 100],\n",
       "                         'max_features': ['auto', 'sqrt', 'log2'],\n",
       "                         'min_samples_split': [2, 4, 6]},\n",
       "             scoring='precision')"
      ]
     },
     "execution_count": 10,
     "metadata": {},
     "output_type": "execute_result"
    }
   ],
   "source": [
    "# imports necessário\n",
    "from sklearn.model_selection import GridSearchCV\n",
    "from scipy.stats import randint\n",
    "\n",
    "# parâmetros que serão aleatoriezados\n",
    "parameters = {'criterion': ['entropy', 'gini'], 'max_depth': [None, 50, 100], 'min_samples_split': [2, 4, 6],\n",
    "              'max_features': ['auto', 'sqrt', 'log2']}\n",
    "\n",
    "# classificador usado\n",
    "dt = DecisionTreeClassifier(random_state=42)\n",
    "\n",
    "# geração do gridsearch\n",
    "clf = GridSearchCV(estimator=dt, param_grid=parameters, scoring='precision', cv=10)\n",
    "clf.fit(xTrain, yTrain)\n",
    "#clf.cv_results_"
   ]
  },
  {
   "cell_type": "code",
   "execution_count": 11,
   "id": "12a0d760",
   "metadata": {},
   "outputs": [
    {
     "data": {
      "text/plain": [
       "{'criterion': 'entropy',\n",
       " 'max_depth': None,\n",
       " 'max_features': 'auto',\n",
       " 'min_samples_split': 2}"
      ]
     },
     "execution_count": 11,
     "metadata": {},
     "output_type": "execute_result"
    }
   ],
   "source": [
    "# melhores parâmetros\n",
    "clf.best_params_"
   ]
  },
  {
   "cell_type": "code",
   "execution_count": 12,
   "id": "01f0d808",
   "metadata": {},
   "outputs": [
    {
     "data": {
      "text/plain": [
       "0.6248066304406683"
      ]
     },
     "execution_count": 12,
     "metadata": {},
     "output_type": "execute_result"
    }
   ],
   "source": [
    "# melhor score\n",
    "clf.best_score_"
   ]
  },
  {
   "cell_type": "code",
   "execution_count": 13,
   "id": "d4aea353",
   "metadata": {},
   "outputs": [],
   "source": [
    "modelosMLFlow(clf.best_score_, dt, \"Decision Tree\")"
   ]
  },
  {
   "cell_type": "code",
   "execution_count": 35,
   "id": "701e2c81",
   "metadata": {},
   "outputs": [
    {
     "name": "stdout",
     "output_type": "stream",
     "text": [
      "Acurácia: 0.7158273381294964\n"
     ]
    }
   ],
   "source": [
    "from sklearn.metrics import accuracy_score\n",
    "\n",
    "dt = DecisionTreeClassifier(random_state=42, criterion='entropy', max_depth=None, min_samples_split=2)\n",
    "dt.fit(xTrain, yTrain)\n",
    "pred = dt.predict(xTest)\n",
    "acuracia = accuracy_score(yTest, pred)\n",
    "print(f'Acurácia: {acuracia}')"
   ]
  },
  {
   "cell_type": "markdown",
   "id": "7466098e",
   "metadata": {},
   "source": [
    "### Logistic Regression"
   ]
  },
  {
   "cell_type": "code",
   "execution_count": 14,
   "id": "b773c5a7",
   "metadata": {},
   "outputs": [
    {
     "data": {
      "text/html": [
       "<style>#sk-container-id-2 {color: black;background-color: white;}#sk-container-id-2 pre{padding: 0;}#sk-container-id-2 div.sk-toggleable {background-color: white;}#sk-container-id-2 label.sk-toggleable__label {cursor: pointer;display: block;width: 100%;margin-bottom: 0;padding: 0.3em;box-sizing: border-box;text-align: center;}#sk-container-id-2 label.sk-toggleable__label-arrow:before {content: \"▸\";float: left;margin-right: 0.25em;color: #696969;}#sk-container-id-2 label.sk-toggleable__label-arrow:hover:before {color: black;}#sk-container-id-2 div.sk-estimator:hover label.sk-toggleable__label-arrow:before {color: black;}#sk-container-id-2 div.sk-toggleable__content {max-height: 0;max-width: 0;overflow: hidden;text-align: left;background-color: #f0f8ff;}#sk-container-id-2 div.sk-toggleable__content pre {margin: 0.2em;color: black;border-radius: 0.25em;background-color: #f0f8ff;}#sk-container-id-2 input.sk-toggleable__control:checked~div.sk-toggleable__content {max-height: 200px;max-width: 100%;overflow: auto;}#sk-container-id-2 input.sk-toggleable__control:checked~label.sk-toggleable__label-arrow:before {content: \"▾\";}#sk-container-id-2 div.sk-estimator input.sk-toggleable__control:checked~label.sk-toggleable__label {background-color: #d4ebff;}#sk-container-id-2 div.sk-label input.sk-toggleable__control:checked~label.sk-toggleable__label {background-color: #d4ebff;}#sk-container-id-2 input.sk-hidden--visually {border: 0;clip: rect(1px 1px 1px 1px);clip: rect(1px, 1px, 1px, 1px);height: 1px;margin: -1px;overflow: hidden;padding: 0;position: absolute;width: 1px;}#sk-container-id-2 div.sk-estimator {font-family: monospace;background-color: #f0f8ff;border: 1px dotted black;border-radius: 0.25em;box-sizing: border-box;margin-bottom: 0.5em;}#sk-container-id-2 div.sk-estimator:hover {background-color: #d4ebff;}#sk-container-id-2 div.sk-parallel-item::after {content: \"\";width: 100%;border-bottom: 1px solid gray;flex-grow: 1;}#sk-container-id-2 div.sk-label:hover label.sk-toggleable__label {background-color: #d4ebff;}#sk-container-id-2 div.sk-serial::before {content: \"\";position: absolute;border-left: 1px solid gray;box-sizing: border-box;top: 0;bottom: 0;left: 50%;z-index: 0;}#sk-container-id-2 div.sk-serial {display: flex;flex-direction: column;align-items: center;background-color: white;padding-right: 0.2em;padding-left: 0.2em;position: relative;}#sk-container-id-2 div.sk-item {position: relative;z-index: 1;}#sk-container-id-2 div.sk-parallel {display: flex;align-items: stretch;justify-content: center;background-color: white;position: relative;}#sk-container-id-2 div.sk-item::before, #sk-container-id-2 div.sk-parallel-item::before {content: \"\";position: absolute;border-left: 1px solid gray;box-sizing: border-box;top: 0;bottom: 0;left: 50%;z-index: -1;}#sk-container-id-2 div.sk-parallel-item {display: flex;flex-direction: column;z-index: 1;position: relative;background-color: white;}#sk-container-id-2 div.sk-parallel-item:first-child::after {align-self: flex-end;width: 50%;}#sk-container-id-2 div.sk-parallel-item:last-child::after {align-self: flex-start;width: 50%;}#sk-container-id-2 div.sk-parallel-item:only-child::after {width: 0;}#sk-container-id-2 div.sk-dashed-wrapped {border: 1px dashed gray;margin: 0 0.4em 0.5em 0.4em;box-sizing: border-box;padding-bottom: 0.4em;background-color: white;}#sk-container-id-2 div.sk-label label {font-family: monospace;font-weight: bold;display: inline-block;line-height: 1.2em;}#sk-container-id-2 div.sk-label-container {text-align: center;}#sk-container-id-2 div.sk-container {/* jupyter's `normalize.less` sets `[hidden] { display: none; }` but bootstrap.min.css set `[hidden] { display: none !important; }` so we also need the `!important` here to be able to override the default hidden behavior on the sphinx rendered scikit-learn.org. See: https://github.com/scikit-learn/scikit-learn/issues/21755 */display: inline-block !important;position: relative;}#sk-container-id-2 div.sk-text-repr-fallback {display: none;}</style><div id=\"sk-container-id-2\" class=\"sk-top-container\"><div class=\"sk-text-repr-fallback\"><pre>GridSearchCV(cv=10, estimator=LogisticRegression(),\n",
       "             param_grid={&#x27;dual&#x27;: [True, False],\n",
       "                         &#x27;penalty&#x27;: [&#x27;l1&#x27;, &#x27;l2&#x27;, &#x27;elasticnet&#x27;],\n",
       "                         &#x27;tol&#x27;: [0.0001, 0.001, 0.01, 0.0004, 0.004]},\n",
       "             scoring=&#x27;precision&#x27;)</pre><b>In a Jupyter environment, please rerun this cell to show the HTML representation or trust the notebook. <br />On GitHub, the HTML representation is unable to render, please try loading this page with nbviewer.org.</b></div><div class=\"sk-container\" hidden><div class=\"sk-item sk-dashed-wrapped\"><div class=\"sk-label-container\"><div class=\"sk-label sk-toggleable\"><input class=\"sk-toggleable__control sk-hidden--visually\" id=\"sk-estimator-id-4\" type=\"checkbox\" ><label for=\"sk-estimator-id-4\" class=\"sk-toggleable__label sk-toggleable__label-arrow\">GridSearchCV</label><div class=\"sk-toggleable__content\"><pre>GridSearchCV(cv=10, estimator=LogisticRegression(),\n",
       "             param_grid={&#x27;dual&#x27;: [True, False],\n",
       "                         &#x27;penalty&#x27;: [&#x27;l1&#x27;, &#x27;l2&#x27;, &#x27;elasticnet&#x27;],\n",
       "                         &#x27;tol&#x27;: [0.0001, 0.001, 0.01, 0.0004, 0.004]},\n",
       "             scoring=&#x27;precision&#x27;)</pre></div></div></div><div class=\"sk-parallel\"><div class=\"sk-parallel-item\"><div class=\"sk-item\"><div class=\"sk-label-container\"><div class=\"sk-label sk-toggleable\"><input class=\"sk-toggleable__control sk-hidden--visually\" id=\"sk-estimator-id-5\" type=\"checkbox\" ><label for=\"sk-estimator-id-5\" class=\"sk-toggleable__label sk-toggleable__label-arrow\">estimator: LogisticRegression</label><div class=\"sk-toggleable__content\"><pre>LogisticRegression()</pre></div></div></div><div class=\"sk-serial\"><div class=\"sk-item\"><div class=\"sk-estimator sk-toggleable\"><input class=\"sk-toggleable__control sk-hidden--visually\" id=\"sk-estimator-id-6\" type=\"checkbox\" ><label for=\"sk-estimator-id-6\" class=\"sk-toggleable__label sk-toggleable__label-arrow\">LogisticRegression</label><div class=\"sk-toggleable__content\"><pre>LogisticRegression()</pre></div></div></div></div></div></div></div></div></div></div>"
      ],
      "text/plain": [
       "GridSearchCV(cv=10, estimator=LogisticRegression(),\n",
       "             param_grid={'dual': [True, False],\n",
       "                         'penalty': ['l1', 'l2', 'elasticnet'],\n",
       "                         'tol': [0.0001, 0.001, 0.01, 0.0004, 0.004]},\n",
       "             scoring='precision')"
      ]
     },
     "execution_count": 14,
     "metadata": {},
     "output_type": "execute_result"
    }
   ],
   "source": [
    "# parâmetros que serão aleatoriezados\n",
    "parameters = {'penalty': ['l1', 'l2', 'elasticnet'] 'tol': [0.0001, 0.001, 0.01, 0.0004, 0.004]}\n",
    "\n",
    "# classificador usado\n",
    "lr = LogisticRegression()\n",
    "\n",
    "# geração do gridsearch\n",
    "clf = GridSearchCV(estimator=lr, param_grid=parameters, scoring='precision', cv=10)\n",
    "clf.fit(xTrain, yTrain)"
   ]
  },
  {
   "cell_type": "code",
   "execution_count": 15,
   "id": "1bea207c",
   "metadata": {},
   "outputs": [
    {
     "data": {
      "text/plain": [
       "{'dual': False, 'penalty': 'l2', 'tol': 0.0001}"
      ]
     },
     "execution_count": 15,
     "metadata": {},
     "output_type": "execute_result"
    }
   ],
   "source": [
    "# melhores parâmetros\n",
    "clf.best_params_"
   ]
  },
  {
   "cell_type": "code",
   "execution_count": 16,
   "id": "3362c96a",
   "metadata": {},
   "outputs": [
    {
     "data": {
      "text/plain": [
       "0.557083573954591"
      ]
     },
     "execution_count": 16,
     "metadata": {},
     "output_type": "execute_result"
    }
   ],
   "source": [
    "# melhor score\n",
    "clf.best_score_"
   ]
  },
  {
   "cell_type": "code",
   "execution_count": 17,
   "id": "be57bb66",
   "metadata": {},
   "outputs": [],
   "source": [
    "modelosMLFlow(clf.best_score_, lr, \"Logistic Regression\")"
   ]
  },
  {
   "cell_type": "code",
   "execution_count": 36,
   "id": "c1baa573",
   "metadata": {},
   "outputs": [
    {
     "name": "stdout",
     "output_type": "stream",
     "text": [
      "Acurácia: 0.5071942446043165\n"
     ]
    }
   ],
   "source": [
    "dt = LogisticRegression(penalty='l2', tol=0.0001)\n",
    "dt.fit(xTrain, yTrain)\n",
    "pred = dt.predict(xTest)\n",
    "acuracia = accuracy_score(yTest, pred)\n",
    "print(f'Acurácia: {acuracia}')"
   ]
  },
  {
   "cell_type": "markdown",
   "id": "bedf78e7",
   "metadata": {},
   "source": [
    "### KNN"
   ]
  },
  {
   "cell_type": "code",
   "execution_count": 18,
   "id": "dc6c0d40",
   "metadata": {},
   "outputs": [
    {
     "data": {
      "text/html": [
       "<style>#sk-container-id-3 {color: black;background-color: white;}#sk-container-id-3 pre{padding: 0;}#sk-container-id-3 div.sk-toggleable {background-color: white;}#sk-container-id-3 label.sk-toggleable__label {cursor: pointer;display: block;width: 100%;margin-bottom: 0;padding: 0.3em;box-sizing: border-box;text-align: center;}#sk-container-id-3 label.sk-toggleable__label-arrow:before {content: \"▸\";float: left;margin-right: 0.25em;color: #696969;}#sk-container-id-3 label.sk-toggleable__label-arrow:hover:before {color: black;}#sk-container-id-3 div.sk-estimator:hover label.sk-toggleable__label-arrow:before {color: black;}#sk-container-id-3 div.sk-toggleable__content {max-height: 0;max-width: 0;overflow: hidden;text-align: left;background-color: #f0f8ff;}#sk-container-id-3 div.sk-toggleable__content pre {margin: 0.2em;color: black;border-radius: 0.25em;background-color: #f0f8ff;}#sk-container-id-3 input.sk-toggleable__control:checked~div.sk-toggleable__content {max-height: 200px;max-width: 100%;overflow: auto;}#sk-container-id-3 input.sk-toggleable__control:checked~label.sk-toggleable__label-arrow:before {content: \"▾\";}#sk-container-id-3 div.sk-estimator input.sk-toggleable__control:checked~label.sk-toggleable__label {background-color: #d4ebff;}#sk-container-id-3 div.sk-label input.sk-toggleable__control:checked~label.sk-toggleable__label {background-color: #d4ebff;}#sk-container-id-3 input.sk-hidden--visually {border: 0;clip: rect(1px 1px 1px 1px);clip: rect(1px, 1px, 1px, 1px);height: 1px;margin: -1px;overflow: hidden;padding: 0;position: absolute;width: 1px;}#sk-container-id-3 div.sk-estimator {font-family: monospace;background-color: #f0f8ff;border: 1px dotted black;border-radius: 0.25em;box-sizing: border-box;margin-bottom: 0.5em;}#sk-container-id-3 div.sk-estimator:hover {background-color: #d4ebff;}#sk-container-id-3 div.sk-parallel-item::after {content: \"\";width: 100%;border-bottom: 1px solid gray;flex-grow: 1;}#sk-container-id-3 div.sk-label:hover label.sk-toggleable__label {background-color: #d4ebff;}#sk-container-id-3 div.sk-serial::before {content: \"\";position: absolute;border-left: 1px solid gray;box-sizing: border-box;top: 0;bottom: 0;left: 50%;z-index: 0;}#sk-container-id-3 div.sk-serial {display: flex;flex-direction: column;align-items: center;background-color: white;padding-right: 0.2em;padding-left: 0.2em;position: relative;}#sk-container-id-3 div.sk-item {position: relative;z-index: 1;}#sk-container-id-3 div.sk-parallel {display: flex;align-items: stretch;justify-content: center;background-color: white;position: relative;}#sk-container-id-3 div.sk-item::before, #sk-container-id-3 div.sk-parallel-item::before {content: \"\";position: absolute;border-left: 1px solid gray;box-sizing: border-box;top: 0;bottom: 0;left: 50%;z-index: -1;}#sk-container-id-3 div.sk-parallel-item {display: flex;flex-direction: column;z-index: 1;position: relative;background-color: white;}#sk-container-id-3 div.sk-parallel-item:first-child::after {align-self: flex-end;width: 50%;}#sk-container-id-3 div.sk-parallel-item:last-child::after {align-self: flex-start;width: 50%;}#sk-container-id-3 div.sk-parallel-item:only-child::after {width: 0;}#sk-container-id-3 div.sk-dashed-wrapped {border: 1px dashed gray;margin: 0 0.4em 0.5em 0.4em;box-sizing: border-box;padding-bottom: 0.4em;background-color: white;}#sk-container-id-3 div.sk-label label {font-family: monospace;font-weight: bold;display: inline-block;line-height: 1.2em;}#sk-container-id-3 div.sk-label-container {text-align: center;}#sk-container-id-3 div.sk-container {/* jupyter's `normalize.less` sets `[hidden] { display: none; }` but bootstrap.min.css set `[hidden] { display: none !important; }` so we also need the `!important` here to be able to override the default hidden behavior on the sphinx rendered scikit-learn.org. See: https://github.com/scikit-learn/scikit-learn/issues/21755 */display: inline-block !important;position: relative;}#sk-container-id-3 div.sk-text-repr-fallback {display: none;}</style><div id=\"sk-container-id-3\" class=\"sk-top-container\"><div class=\"sk-text-repr-fallback\"><pre>GridSearchCV(cv=10, estimator=KNeighborsClassifier(),\n",
       "             param_grid={&#x27;algorithm&#x27;: [&#x27;auto&#x27;, &#x27;brute&#x27;, &#x27;kd_tree&#x27;, &#x27;ball_tree&#x27;],\n",
       "                         &#x27;metric&#x27;: [&#x27;cosine&#x27;, &#x27;euclidean&#x27;, &#x27;manhattan&#x27;,\n",
       "                                    &#x27;minkowski&#x27;],\n",
       "                         &#x27;n_neighbors&#x27;: [5, 10, 15, 20]},\n",
       "             scoring=&#x27;precision&#x27;)</pre><b>In a Jupyter environment, please rerun this cell to show the HTML representation or trust the notebook. <br />On GitHub, the HTML representation is unable to render, please try loading this page with nbviewer.org.</b></div><div class=\"sk-container\" hidden><div class=\"sk-item sk-dashed-wrapped\"><div class=\"sk-label-container\"><div class=\"sk-label sk-toggleable\"><input class=\"sk-toggleable__control sk-hidden--visually\" id=\"sk-estimator-id-7\" type=\"checkbox\" ><label for=\"sk-estimator-id-7\" class=\"sk-toggleable__label sk-toggleable__label-arrow\">GridSearchCV</label><div class=\"sk-toggleable__content\"><pre>GridSearchCV(cv=10, estimator=KNeighborsClassifier(),\n",
       "             param_grid={&#x27;algorithm&#x27;: [&#x27;auto&#x27;, &#x27;brute&#x27;, &#x27;kd_tree&#x27;, &#x27;ball_tree&#x27;],\n",
       "                         &#x27;metric&#x27;: [&#x27;cosine&#x27;, &#x27;euclidean&#x27;, &#x27;manhattan&#x27;,\n",
       "                                    &#x27;minkowski&#x27;],\n",
       "                         &#x27;n_neighbors&#x27;: [5, 10, 15, 20]},\n",
       "             scoring=&#x27;precision&#x27;)</pre></div></div></div><div class=\"sk-parallel\"><div class=\"sk-parallel-item\"><div class=\"sk-item\"><div class=\"sk-label-container\"><div class=\"sk-label sk-toggleable\"><input class=\"sk-toggleable__control sk-hidden--visually\" id=\"sk-estimator-id-8\" type=\"checkbox\" ><label for=\"sk-estimator-id-8\" class=\"sk-toggleable__label sk-toggleable__label-arrow\">estimator: KNeighborsClassifier</label><div class=\"sk-toggleable__content\"><pre>KNeighborsClassifier()</pre></div></div></div><div class=\"sk-serial\"><div class=\"sk-item\"><div class=\"sk-estimator sk-toggleable\"><input class=\"sk-toggleable__control sk-hidden--visually\" id=\"sk-estimator-id-9\" type=\"checkbox\" ><label for=\"sk-estimator-id-9\" class=\"sk-toggleable__label sk-toggleable__label-arrow\">KNeighborsClassifier</label><div class=\"sk-toggleable__content\"><pre>KNeighborsClassifier()</pre></div></div></div></div></div></div></div></div></div></div>"
      ],
      "text/plain": [
       "GridSearchCV(cv=10, estimator=KNeighborsClassifier(),\n",
       "             param_grid={'algorithm': ['auto', 'brute', 'kd_tree', 'ball_tree'],\n",
       "                         'metric': ['cosine', 'euclidean', 'manhattan',\n",
       "                                    'minkowski'],\n",
       "                         'n_neighbors': [5, 10, 15, 20]},\n",
       "             scoring='precision')"
      ]
     },
     "execution_count": 18,
     "metadata": {},
     "output_type": "execute_result"
    }
   ],
   "source": [
    "# parâmetros que serão aleatoriezados\n",
    "parameters = {'n_neighbors': [5, 10, 15, 20], 'algorithm': ['auto', 'brute', 'kd_tree', 'ball_tree'], \n",
    "              'metric': ['cosine', 'euclidean', 'manhattan', 'minkowski']}\n",
    "\n",
    "# classificador usado\n",
    "knn = KNeighborsClassifier()\n",
    "\n",
    "# geração do gridsearch\n",
    "clf = GridSearchCV(estimator=knn, param_grid=parameters, scoring='precision', cv=10)\n",
    "clf.fit(xTrain, yTrain)"
   ]
  },
  {
   "cell_type": "code",
   "execution_count": 19,
   "id": "1adeb497",
   "metadata": {},
   "outputs": [
    {
     "data": {
      "text/plain": [
       "{'algorithm': 'auto', 'metric': 'manhattan', 'n_neighbors': 20}"
      ]
     },
     "execution_count": 19,
     "metadata": {},
     "output_type": "execute_result"
    }
   ],
   "source": [
    "# melhores parâmetros\n",
    "clf.best_params_"
   ]
  },
  {
   "cell_type": "code",
   "execution_count": 20,
   "id": "71fcda5e",
   "metadata": {},
   "outputs": [
    {
     "data": {
      "text/plain": [
       "0.5614053792158691"
      ]
     },
     "execution_count": 20,
     "metadata": {},
     "output_type": "execute_result"
    }
   ],
   "source": [
    "# melhor score\n",
    "clf.best_score_"
   ]
  },
  {
   "cell_type": "code",
   "execution_count": 21,
   "id": "7f67d076",
   "metadata": {},
   "outputs": [],
   "source": [
    "modelosMLFlow(clf.best_score_, knn, \"KNN\")"
   ]
  },
  {
   "cell_type": "code",
   "execution_count": 37,
   "id": "acac2ff9",
   "metadata": {},
   "outputs": [
    {
     "name": "stdout",
     "output_type": "stream",
     "text": [
      "Acurácia: 0.539568345323741\n"
     ]
    }
   ],
   "source": [
    "dt = KNeighborsClassifier(algorithm='auto', metric='manhattan', n_neighbors=20)\n",
    "dt.fit(xTrain, yTrain)\n",
    "pred = dt.predict(xTest)\n",
    "acuracia = accuracy_score(yTest, pred)\n",
    "print(f'Acurácia: {acuracia}')"
   ]
  },
  {
   "cell_type": "markdown",
   "id": "d7eeabc9",
   "metadata": {},
   "source": [
    "### Naive Bayes"
   ]
  },
  {
   "cell_type": "code",
   "execution_count": 22,
   "id": "275a947f",
   "metadata": {},
   "outputs": [
    {
     "data": {
      "text/html": [
       "<style>#sk-container-id-4 {color: black;background-color: white;}#sk-container-id-4 pre{padding: 0;}#sk-container-id-4 div.sk-toggleable {background-color: white;}#sk-container-id-4 label.sk-toggleable__label {cursor: pointer;display: block;width: 100%;margin-bottom: 0;padding: 0.3em;box-sizing: border-box;text-align: center;}#sk-container-id-4 label.sk-toggleable__label-arrow:before {content: \"▸\";float: left;margin-right: 0.25em;color: #696969;}#sk-container-id-4 label.sk-toggleable__label-arrow:hover:before {color: black;}#sk-container-id-4 div.sk-estimator:hover label.sk-toggleable__label-arrow:before {color: black;}#sk-container-id-4 div.sk-toggleable__content {max-height: 0;max-width: 0;overflow: hidden;text-align: left;background-color: #f0f8ff;}#sk-container-id-4 div.sk-toggleable__content pre {margin: 0.2em;color: black;border-radius: 0.25em;background-color: #f0f8ff;}#sk-container-id-4 input.sk-toggleable__control:checked~div.sk-toggleable__content {max-height: 200px;max-width: 100%;overflow: auto;}#sk-container-id-4 input.sk-toggleable__control:checked~label.sk-toggleable__label-arrow:before {content: \"▾\";}#sk-container-id-4 div.sk-estimator input.sk-toggleable__control:checked~label.sk-toggleable__label {background-color: #d4ebff;}#sk-container-id-4 div.sk-label input.sk-toggleable__control:checked~label.sk-toggleable__label {background-color: #d4ebff;}#sk-container-id-4 input.sk-hidden--visually {border: 0;clip: rect(1px 1px 1px 1px);clip: rect(1px, 1px, 1px, 1px);height: 1px;margin: -1px;overflow: hidden;padding: 0;position: absolute;width: 1px;}#sk-container-id-4 div.sk-estimator {font-family: monospace;background-color: #f0f8ff;border: 1px dotted black;border-radius: 0.25em;box-sizing: border-box;margin-bottom: 0.5em;}#sk-container-id-4 div.sk-estimator:hover {background-color: #d4ebff;}#sk-container-id-4 div.sk-parallel-item::after {content: \"\";width: 100%;border-bottom: 1px solid gray;flex-grow: 1;}#sk-container-id-4 div.sk-label:hover label.sk-toggleable__label {background-color: #d4ebff;}#sk-container-id-4 div.sk-serial::before {content: \"\";position: absolute;border-left: 1px solid gray;box-sizing: border-box;top: 0;bottom: 0;left: 50%;z-index: 0;}#sk-container-id-4 div.sk-serial {display: flex;flex-direction: column;align-items: center;background-color: white;padding-right: 0.2em;padding-left: 0.2em;position: relative;}#sk-container-id-4 div.sk-item {position: relative;z-index: 1;}#sk-container-id-4 div.sk-parallel {display: flex;align-items: stretch;justify-content: center;background-color: white;position: relative;}#sk-container-id-4 div.sk-item::before, #sk-container-id-4 div.sk-parallel-item::before {content: \"\";position: absolute;border-left: 1px solid gray;box-sizing: border-box;top: 0;bottom: 0;left: 50%;z-index: -1;}#sk-container-id-4 div.sk-parallel-item {display: flex;flex-direction: column;z-index: 1;position: relative;background-color: white;}#sk-container-id-4 div.sk-parallel-item:first-child::after {align-self: flex-end;width: 50%;}#sk-container-id-4 div.sk-parallel-item:last-child::after {align-self: flex-start;width: 50%;}#sk-container-id-4 div.sk-parallel-item:only-child::after {width: 0;}#sk-container-id-4 div.sk-dashed-wrapped {border: 1px dashed gray;margin: 0 0.4em 0.5em 0.4em;box-sizing: border-box;padding-bottom: 0.4em;background-color: white;}#sk-container-id-4 div.sk-label label {font-family: monospace;font-weight: bold;display: inline-block;line-height: 1.2em;}#sk-container-id-4 div.sk-label-container {text-align: center;}#sk-container-id-4 div.sk-container {/* jupyter's `normalize.less` sets `[hidden] { display: none; }` but bootstrap.min.css set `[hidden] { display: none !important; }` so we also need the `!important` here to be able to override the default hidden behavior on the sphinx rendered scikit-learn.org. See: https://github.com/scikit-learn/scikit-learn/issues/21755 */display: inline-block !important;position: relative;}#sk-container-id-4 div.sk-text-repr-fallback {display: none;}</style><div id=\"sk-container-id-4\" class=\"sk-top-container\"><div class=\"sk-text-repr-fallback\"><pre>GridSearchCV(cv=10, estimator=GaussianNB(),\n",
       "             param_grid={&#x27;priors&#x27;: [None,\n",
       "                                    [0.1, 0.1, 0.1, 0.1, 0.1, 0.1, 0.1, 0.1,\n",
       "                                     0.1, 0.1]],\n",
       "                         &#x27;var_smoothing&#x27;: [1e-09, 1e-06, 1e-12]})</pre><b>In a Jupyter environment, please rerun this cell to show the HTML representation or trust the notebook. <br />On GitHub, the HTML representation is unable to render, please try loading this page with nbviewer.org.</b></div><div class=\"sk-container\" hidden><div class=\"sk-item sk-dashed-wrapped\"><div class=\"sk-label-container\"><div class=\"sk-label sk-toggleable\"><input class=\"sk-toggleable__control sk-hidden--visually\" id=\"sk-estimator-id-10\" type=\"checkbox\" ><label for=\"sk-estimator-id-10\" class=\"sk-toggleable__label sk-toggleable__label-arrow\">GridSearchCV</label><div class=\"sk-toggleable__content\"><pre>GridSearchCV(cv=10, estimator=GaussianNB(),\n",
       "             param_grid={&#x27;priors&#x27;: [None,\n",
       "                                    [0.1, 0.1, 0.1, 0.1, 0.1, 0.1, 0.1, 0.1,\n",
       "                                     0.1, 0.1]],\n",
       "                         &#x27;var_smoothing&#x27;: [1e-09, 1e-06, 1e-12]})</pre></div></div></div><div class=\"sk-parallel\"><div class=\"sk-parallel-item\"><div class=\"sk-item\"><div class=\"sk-label-container\"><div class=\"sk-label sk-toggleable\"><input class=\"sk-toggleable__control sk-hidden--visually\" id=\"sk-estimator-id-11\" type=\"checkbox\" ><label for=\"sk-estimator-id-11\" class=\"sk-toggleable__label sk-toggleable__label-arrow\">estimator: GaussianNB</label><div class=\"sk-toggleable__content\"><pre>GaussianNB()</pre></div></div></div><div class=\"sk-serial\"><div class=\"sk-item\"><div class=\"sk-estimator sk-toggleable\"><input class=\"sk-toggleable__control sk-hidden--visually\" id=\"sk-estimator-id-12\" type=\"checkbox\" ><label for=\"sk-estimator-id-12\" class=\"sk-toggleable__label sk-toggleable__label-arrow\">GaussianNB</label><div class=\"sk-toggleable__content\"><pre>GaussianNB()</pre></div></div></div></div></div></div></div></div></div></div>"
      ],
      "text/plain": [
       "GridSearchCV(cv=10, estimator=GaussianNB(),\n",
       "             param_grid={'priors': [None,\n",
       "                                    [0.1, 0.1, 0.1, 0.1, 0.1, 0.1, 0.1, 0.1,\n",
       "                                     0.1, 0.1]],\n",
       "                         'var_smoothing': [1e-09, 1e-06, 1e-12]})"
      ]
     },
     "execution_count": 22,
     "metadata": {},
     "output_type": "execute_result"
    }
   ],
   "source": [
    "# parâmetros que serão aleatoriezados\n",
    "parameters = {'priors': [None, [0.1,]*10],\n",
    "            'var_smoothing': [1e-9, 1e-6, 1e-12]}\n",
    "\n",
    "# classificador usado\n",
    "nb = GaussianNB()\n",
    "\n",
    "# geração do gridsearch\n",
    "clf = GridSearchCV(estimator=nb, param_grid=parameters, cv=10)\n",
    "clf.fit(xTrain, yTrain)"
   ]
  },
  {
   "cell_type": "code",
   "execution_count": 23,
   "id": "60d85e3b",
   "metadata": {},
   "outputs": [
    {
     "data": {
      "text/plain": [
       "{'priors': None, 'var_smoothing': 1e-09}"
      ]
     },
     "execution_count": 23,
     "metadata": {},
     "output_type": "execute_result"
    }
   ],
   "source": [
    "# melhores parâmetros\n",
    "clf.best_params_"
   ]
  },
  {
   "cell_type": "code",
   "execution_count": 24,
   "id": "86cc62f3",
   "metadata": {},
   "outputs": [
    {
     "data": {
      "text/plain": [
       "0.5491564291564293"
      ]
     },
     "execution_count": 24,
     "metadata": {},
     "output_type": "execute_result"
    }
   ],
   "source": [
    "# melhor score\n",
    "clf.best_score_"
   ]
  },
  {
   "cell_type": "code",
   "execution_count": 25,
   "id": "135e01e6",
   "metadata": {},
   "outputs": [],
   "source": [
    "modelosMLFlow(clf.best_score_, nb, \"Naive Bayes\")"
   ]
  },
  {
   "cell_type": "code",
   "execution_count": 38,
   "id": "3a3f9dc2",
   "metadata": {},
   "outputs": [
    {
     "name": "stdout",
     "output_type": "stream",
     "text": [
      "Acurácia: 0.5359712230215827\n"
     ]
    }
   ],
   "source": [
    "dt = GaussianNB(priors=None, var_smoothing=1e-09)\n",
    "dt.fit(xTrain, yTrain)\n",
    "pred = dt.predict(xTest)\n",
    "acuracia = accuracy_score(yTest, pred)\n",
    "print(f'Acurácia: {acuracia}')"
   ]
  },
  {
   "cell_type": "markdown",
   "id": "d6c609cd",
   "metadata": {},
   "source": [
    "### Random Forest"
   ]
  },
  {
   "cell_type": "code",
   "execution_count": 30,
   "id": "b78fd677",
   "metadata": {},
   "outputs": [
    {
     "data": {
      "text/html": [
       "<style>#sk-container-id-6 {color: black;background-color: white;}#sk-container-id-6 pre{padding: 0;}#sk-container-id-6 div.sk-toggleable {background-color: white;}#sk-container-id-6 label.sk-toggleable__label {cursor: pointer;display: block;width: 100%;margin-bottom: 0;padding: 0.3em;box-sizing: border-box;text-align: center;}#sk-container-id-6 label.sk-toggleable__label-arrow:before {content: \"▸\";float: left;margin-right: 0.25em;color: #696969;}#sk-container-id-6 label.sk-toggleable__label-arrow:hover:before {color: black;}#sk-container-id-6 div.sk-estimator:hover label.sk-toggleable__label-arrow:before {color: black;}#sk-container-id-6 div.sk-toggleable__content {max-height: 0;max-width: 0;overflow: hidden;text-align: left;background-color: #f0f8ff;}#sk-container-id-6 div.sk-toggleable__content pre {margin: 0.2em;color: black;border-radius: 0.25em;background-color: #f0f8ff;}#sk-container-id-6 input.sk-toggleable__control:checked~div.sk-toggleable__content {max-height: 200px;max-width: 100%;overflow: auto;}#sk-container-id-6 input.sk-toggleable__control:checked~label.sk-toggleable__label-arrow:before {content: \"▾\";}#sk-container-id-6 div.sk-estimator input.sk-toggleable__control:checked~label.sk-toggleable__label {background-color: #d4ebff;}#sk-container-id-6 div.sk-label input.sk-toggleable__control:checked~label.sk-toggleable__label {background-color: #d4ebff;}#sk-container-id-6 input.sk-hidden--visually {border: 0;clip: rect(1px 1px 1px 1px);clip: rect(1px, 1px, 1px, 1px);height: 1px;margin: -1px;overflow: hidden;padding: 0;position: absolute;width: 1px;}#sk-container-id-6 div.sk-estimator {font-family: monospace;background-color: #f0f8ff;border: 1px dotted black;border-radius: 0.25em;box-sizing: border-box;margin-bottom: 0.5em;}#sk-container-id-6 div.sk-estimator:hover {background-color: #d4ebff;}#sk-container-id-6 div.sk-parallel-item::after {content: \"\";width: 100%;border-bottom: 1px solid gray;flex-grow: 1;}#sk-container-id-6 div.sk-label:hover label.sk-toggleable__label {background-color: #d4ebff;}#sk-container-id-6 div.sk-serial::before {content: \"\";position: absolute;border-left: 1px solid gray;box-sizing: border-box;top: 0;bottom: 0;left: 50%;z-index: 0;}#sk-container-id-6 div.sk-serial {display: flex;flex-direction: column;align-items: center;background-color: white;padding-right: 0.2em;padding-left: 0.2em;position: relative;}#sk-container-id-6 div.sk-item {position: relative;z-index: 1;}#sk-container-id-6 div.sk-parallel {display: flex;align-items: stretch;justify-content: center;background-color: white;position: relative;}#sk-container-id-6 div.sk-item::before, #sk-container-id-6 div.sk-parallel-item::before {content: \"\";position: absolute;border-left: 1px solid gray;box-sizing: border-box;top: 0;bottom: 0;left: 50%;z-index: -1;}#sk-container-id-6 div.sk-parallel-item {display: flex;flex-direction: column;z-index: 1;position: relative;background-color: white;}#sk-container-id-6 div.sk-parallel-item:first-child::after {align-self: flex-end;width: 50%;}#sk-container-id-6 div.sk-parallel-item:last-child::after {align-self: flex-start;width: 50%;}#sk-container-id-6 div.sk-parallel-item:only-child::after {width: 0;}#sk-container-id-6 div.sk-dashed-wrapped {border: 1px dashed gray;margin: 0 0.4em 0.5em 0.4em;box-sizing: border-box;padding-bottom: 0.4em;background-color: white;}#sk-container-id-6 div.sk-label label {font-family: monospace;font-weight: bold;display: inline-block;line-height: 1.2em;}#sk-container-id-6 div.sk-label-container {text-align: center;}#sk-container-id-6 div.sk-container {/* jupyter's `normalize.less` sets `[hidden] { display: none; }` but bootstrap.min.css set `[hidden] { display: none !important; }` so we also need the `!important` here to be able to override the default hidden behavior on the sphinx rendered scikit-learn.org. See: https://github.com/scikit-learn/scikit-learn/issues/21755 */display: inline-block !important;position: relative;}#sk-container-id-6 div.sk-text-repr-fallback {display: none;}</style><div id=\"sk-container-id-6\" class=\"sk-top-container\"><div class=\"sk-text-repr-fallback\"><pre>GridSearchCV(cv=10, estimator=RandomForestClassifier(random_state=42),\n",
       "             param_grid={&#x27;bootstrap&#x27;: [True, False],\n",
       "                         &#x27;criterion&#x27;: [&#x27;entropy&#x27;, &#x27;gini&#x27;],\n",
       "                         &#x27;max_depth&#x27;: [None, 50, 100],\n",
       "                         &#x27;max_features&#x27;: [&#x27;auto&#x27;, &#x27;sqrt&#x27;, &#x27;log2&#x27;],\n",
       "                         &#x27;min_samples_split&#x27;: [2, 4, 6],\n",
       "                         &#x27;n_estimators&#x27;: [50, 100, 200]})</pre><b>In a Jupyter environment, please rerun this cell to show the HTML representation or trust the notebook. <br />On GitHub, the HTML representation is unable to render, please try loading this page with nbviewer.org.</b></div><div class=\"sk-container\" hidden><div class=\"sk-item sk-dashed-wrapped\"><div class=\"sk-label-container\"><div class=\"sk-label sk-toggleable\"><input class=\"sk-toggleable__control sk-hidden--visually\" id=\"sk-estimator-id-16\" type=\"checkbox\" ><label for=\"sk-estimator-id-16\" class=\"sk-toggleable__label sk-toggleable__label-arrow\">GridSearchCV</label><div class=\"sk-toggleable__content\"><pre>GridSearchCV(cv=10, estimator=RandomForestClassifier(random_state=42),\n",
       "             param_grid={&#x27;bootstrap&#x27;: [True, False],\n",
       "                         &#x27;criterion&#x27;: [&#x27;entropy&#x27;, &#x27;gini&#x27;],\n",
       "                         &#x27;max_depth&#x27;: [None, 50, 100],\n",
       "                         &#x27;max_features&#x27;: [&#x27;auto&#x27;, &#x27;sqrt&#x27;, &#x27;log2&#x27;],\n",
       "                         &#x27;min_samples_split&#x27;: [2, 4, 6],\n",
       "                         &#x27;n_estimators&#x27;: [50, 100, 200]})</pre></div></div></div><div class=\"sk-parallel\"><div class=\"sk-parallel-item\"><div class=\"sk-item\"><div class=\"sk-label-container\"><div class=\"sk-label sk-toggleable\"><input class=\"sk-toggleable__control sk-hidden--visually\" id=\"sk-estimator-id-17\" type=\"checkbox\" ><label for=\"sk-estimator-id-17\" class=\"sk-toggleable__label sk-toggleable__label-arrow\">estimator: RandomForestClassifier</label><div class=\"sk-toggleable__content\"><pre>RandomForestClassifier(random_state=42)</pre></div></div></div><div class=\"sk-serial\"><div class=\"sk-item\"><div class=\"sk-estimator sk-toggleable\"><input class=\"sk-toggleable__control sk-hidden--visually\" id=\"sk-estimator-id-18\" type=\"checkbox\" ><label for=\"sk-estimator-id-18\" class=\"sk-toggleable__label sk-toggleable__label-arrow\">RandomForestClassifier</label><div class=\"sk-toggleable__content\"><pre>RandomForestClassifier(random_state=42)</pre></div></div></div></div></div></div></div></div></div></div>"
      ],
      "text/plain": [
       "GridSearchCV(cv=10, estimator=RandomForestClassifier(random_state=42),\n",
       "             param_grid={'bootstrap': [True, False],\n",
       "                         'criterion': ['entropy', 'gini'],\n",
       "                         'max_depth': [None, 50, 100],\n",
       "                         'max_features': ['auto', 'sqrt', 'log2'],\n",
       "                         'min_samples_split': [2, 4, 6],\n",
       "                         'n_estimators': [50, 100, 200]})"
      ]
     },
     "execution_count": 30,
     "metadata": {},
     "output_type": "execute_result"
    }
   ],
   "source": [
    "# parâmetros que serão aleatoriezados\n",
    "parameters = {'n_estimators': [50, 100, 200], 'criterion': ['entropy', 'gini'],\n",
    "              'max_depth': [None, 50, 100], 'min_samples_split': [2, 4, 6],\n",
    "              'max_features': ['auto', 'sqrt', 'log2'], 'bootstrap': [True, False]}\n",
    "\n",
    "# classificador usado\n",
    "rf = RandomForestClassifier(random_state=42)\n",
    "\n",
    "# geração do gridsearch\n",
    "clf = GridSearchCV(estimator=rf, param_grid=parameters, cv=10)\n",
    "clf.fit(xTrain, yTrain)\n",
    "#clf.cv_results_"
   ]
  },
  {
   "cell_type": "code",
   "execution_count": 31,
   "id": "49e444b1",
   "metadata": {},
   "outputs": [
    {
     "data": {
      "text/plain": [
       "{'bootstrap': False,\n",
       " 'criterion': 'gini',\n",
       " 'max_depth': None,\n",
       " 'max_features': 'auto',\n",
       " 'min_samples_split': 2,\n",
       " 'n_estimators': 200}"
      ]
     },
     "execution_count": 31,
     "metadata": {},
     "output_type": "execute_result"
    }
   ],
   "source": [
    "# melhores parâmetros\n",
    "clf.best_params_"
   ]
  },
  {
   "cell_type": "code",
   "execution_count": 32,
   "id": "7c0e1666",
   "metadata": {},
   "outputs": [
    {
     "data": {
      "text/plain": [
       "0.7421703521703522"
      ]
     },
     "execution_count": 32,
     "metadata": {},
     "output_type": "execute_result"
    }
   ],
   "source": [
    "# melhor score\n",
    "clf.best_score_"
   ]
  },
  {
   "cell_type": "code",
   "execution_count": 34,
   "id": "28ac6fc1",
   "metadata": {},
   "outputs": [],
   "source": [
    "modelosMLFlow(clf.best_score_, rf, \"Random Forest\")"
   ]
  },
  {
   "cell_type": "code",
   "execution_count": 5,
   "id": "7b55e8b0",
   "metadata": {},
   "outputs": [
    {
     "name": "stdout",
     "output_type": "stream",
     "text": [
      "Acurácia: 0.7266187050359713\n"
     ]
    }
   ],
   "source": [
    "from sklearn.metrics import accuracy_score\n",
    "\n",
    "dt = RandomForestClassifier(random_state=42, bootstrap=False, criterion='gini', max_depth=None, min_samples_split=2, n_estimators=200)\n",
    "dt.fit(xTrain, yTrain)\n",
    "pred = dt.predict(xTest)\n",
    "acuracia = accuracy_score(yTest, pred)\n",
    "print(f'Acurácia: {acuracia}')"
   ]
  },
  {
   "cell_type": "code",
   "execution_count": 6,
   "id": "98b30874",
   "metadata": {},
   "outputs": [
    {
     "data": {
      "text/plain": [
       "<Axes: >"
      ]
     },
     "execution_count": 6,
     "metadata": {},
     "output_type": "execute_result"
    },
    {
     "data": {
      "image/png": "[encoded data removed]",
      "text/plain": [
       "<Figure size 640x480 with 1 Axes>"
      ]
     },
     "metadata": {},
     "output_type": "display_data"
    }
   ],
   "source": [
    "# Create a series containing feature importances from the model and feature names from the training data\n",
    "sns.set(font_scale=1.4)\n",
    "feature_importances = pd.Series(dt.feature_importances_, index=xTrain.columns).sort_values(ascending=False)\n",
    "\n",
    "# Plot a simple bar chart\n",
    "sns.set_style('darkgrid')\n",
    "feature_importances.plot(kind='barh', color='#701f57')"
   ]
  },
  {
   "cell_type": "code",
   "execution_count": null,
   "id": "af6e94ec",
   "metadata": {},
   "outputs": [],
   "source": []
  }
 ],
 "metadata": {
  "kernelspec": {
   "display_name": "Python 3 (ipykernel)",
   "language": "python",
   "name": "python3"
  },
  "language_info": {
   "codemirror_mode": {
    "name": "ipython",
    "version": 3
   },
   "file_extension": ".py",
   "mimetype": "text/x-python",
   "name": "python",
   "nbconvert_exporter": "python",
   "pygments_lexer": "ipython3",
   "version": "3.10.6"
  }
 },
 "nbformat": 4,
 "nbformat_minor": 5
}
