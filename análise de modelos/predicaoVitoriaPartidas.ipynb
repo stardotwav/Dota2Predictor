{
 "cells": [
  {
   "cell_type": "markdown",
   "id": "ba35bf44",
   "metadata": {},
   "source": [
    "### 🔴 Importação dos Dados e Amostragem dos Dados\n",
    "\n",
    "Nesta etapa algumas coisas são alteradas no dataset, como a retirada do id da partida, a troca do time vencedor para os valores 0 e 1, em que 1 indica o time Radiant, e o 0 o time Dire. Além disso, tudo é transformado em inteiros para facilitar, visto que todos os valores são identificadores inteiros."
   ]
  },
  {
   "cell_type": "code",
   "execution_count": 1,
   "id": "4f492b2f",
   "metadata": {},
   "outputs": [
    {
     "data": {
      "text/html": [
       "<div>\n",
       "<style scoped>\n",
       "    .dataframe tbody tr th:only-of-type {\n",
       "        vertical-align: middle;\n",
       "    }\n",
       "\n",
       "    .dataframe tbody tr th {\n",
       "        vertical-align: top;\n",
       "    }\n",
       "\n",
       "    .dataframe thead th {\n",
       "        text-align: right;\n",
       "    }\n",
       "</style>\n",
       "<table border=\"1\" class=\"dataframe\">\n",
       "  <thead>\n",
       "    <tr style=\"text-align: right;\">\n",
       "      <th></th>\n",
       "      <th>teamWinner</th>\n",
       "      <th>pickRadiant1</th>\n",
       "      <th>pickRadiant2</th>\n",
       "      <th>pickRadiant3</th>\n",
       "      <th>pickRadiant4</th>\n",
       "      <th>pickRadiant5</th>\n",
       "      <th>pickDire1</th>\n",
       "      <th>pickDire2</th>\n",
       "      <th>pickDire3</th>\n",
       "      <th>pickDire4</th>\n",
       "      <th>pickDire5</th>\n",
       "      <th>numTeamFights</th>\n",
       "      <th>barracksRadiant</th>\n",
       "      <th>barracksDire</th>\n",
       "    </tr>\n",
       "  </thead>\n",
       "  <tbody>\n",
       "    <tr>\n",
       "      <th>0</th>\n",
       "      <td>1</td>\n",
       "      <td>86</td>\n",
       "      <td>137</td>\n",
       "      <td>103</td>\n",
       "      <td>53</td>\n",
       "      <td>40</td>\n",
       "      <td>52</td>\n",
       "      <td>32</td>\n",
       "      <td>51</td>\n",
       "      <td>106</td>\n",
       "      <td>89</td>\n",
       "      <td>10</td>\n",
       "      <td>6</td>\n",
       "      <td>0</td>\n",
       "    </tr>\n",
       "    <tr>\n",
       "      <th>1</th>\n",
       "      <td>0</td>\n",
       "      <td>85</td>\n",
       "      <td>128</td>\n",
       "      <td>11</td>\n",
       "      <td>110</td>\n",
       "      <td>48</td>\n",
       "      <td>100</td>\n",
       "      <td>105</td>\n",
       "      <td>30</td>\n",
       "      <td>53</td>\n",
       "      <td>45</td>\n",
       "      <td>5</td>\n",
       "      <td>3</td>\n",
       "      <td>6</td>\n",
       "    </tr>\n",
       "    <tr>\n",
       "      <th>2</th>\n",
       "      <td>1</td>\n",
       "      <td>43</td>\n",
       "      <td>86</td>\n",
       "      <td>84</td>\n",
       "      <td>60</td>\n",
       "      <td>126</td>\n",
       "      <td>64</td>\n",
       "      <td>105</td>\n",
       "      <td>38</td>\n",
       "      <td>35</td>\n",
       "      <td>10</td>\n",
       "      <td>0</td>\n",
       "      <td>6</td>\n",
       "      <td>4</td>\n",
       "    </tr>\n",
       "    <tr>\n",
       "      <th>3</th>\n",
       "      <td>0</td>\n",
       "      <td>69</td>\n",
       "      <td>123</td>\n",
       "      <td>58</td>\n",
       "      <td>54</td>\n",
       "      <td>120</td>\n",
       "      <td>86</td>\n",
       "      <td>96</td>\n",
       "      <td>18</td>\n",
       "      <td>91</td>\n",
       "      <td>65</td>\n",
       "      <td>7</td>\n",
       "      <td>0</td>\n",
       "      <td>4</td>\n",
       "    </tr>\n",
       "    <tr>\n",
       "      <th>4</th>\n",
       "      <td>0</td>\n",
       "      <td>74</td>\n",
       "      <td>86</td>\n",
       "      <td>136</td>\n",
       "      <td>10</td>\n",
       "      <td>108</td>\n",
       "      <td>43</td>\n",
       "      <td>46</td>\n",
       "      <td>100</td>\n",
       "      <td>75</td>\n",
       "      <td>53</td>\n",
       "      <td>2</td>\n",
       "      <td>3</td>\n",
       "      <td>6</td>\n",
       "    </tr>\n",
       "    <tr>\n",
       "      <th>...</th>\n",
       "      <td>...</td>\n",
       "      <td>...</td>\n",
       "      <td>...</td>\n",
       "      <td>...</td>\n",
       "      <td>...</td>\n",
       "      <td>...</td>\n",
       "      <td>...</td>\n",
       "      <td>...</td>\n",
       "      <td>...</td>\n",
       "      <td>...</td>\n",
       "      <td>...</td>\n",
       "      <td>...</td>\n",
       "      <td>...</td>\n",
       "      <td>...</td>\n",
       "    </tr>\n",
       "    <tr>\n",
       "      <th>1133</th>\n",
       "      <td>1</td>\n",
       "      <td>126</td>\n",
       "      <td>87</td>\n",
       "      <td>96</td>\n",
       "      <td>109</td>\n",
       "      <td>11</td>\n",
       "      <td>121</td>\n",
       "      <td>69</td>\n",
       "      <td>63</td>\n",
       "      <td>138</td>\n",
       "      <td>89</td>\n",
       "      <td>4</td>\n",
       "      <td>6</td>\n",
       "      <td>4</td>\n",
       "    </tr>\n",
       "    <tr>\n",
       "      <th>1134</th>\n",
       "      <td>1</td>\n",
       "      <td>73</td>\n",
       "      <td>33</td>\n",
       "      <td>85</td>\n",
       "      <td>96</td>\n",
       "      <td>21</td>\n",
       "      <td>68</td>\n",
       "      <td>75</td>\n",
       "      <td>129</td>\n",
       "      <td>8</td>\n",
       "      <td>106</td>\n",
       "      <td>6</td>\n",
       "      <td>6</td>\n",
       "      <td>4</td>\n",
       "    </tr>\n",
       "    <tr>\n",
       "      <th>1135</th>\n",
       "      <td>1</td>\n",
       "      <td>104</td>\n",
       "      <td>126</td>\n",
       "      <td>75</td>\n",
       "      <td>5</td>\n",
       "      <td>70</td>\n",
       "      <td>111</td>\n",
       "      <td>106</td>\n",
       "      <td>136</td>\n",
       "      <td>91</td>\n",
       "      <td>73</td>\n",
       "      <td>5</td>\n",
       "      <td>6</td>\n",
       "      <td>6</td>\n",
       "    </tr>\n",
       "    <tr>\n",
       "      <th>1136</th>\n",
       "      <td>0</td>\n",
       "      <td>73</td>\n",
       "      <td>94</td>\n",
       "      <td>90</td>\n",
       "      <td>2</td>\n",
       "      <td>59</td>\n",
       "      <td>62</td>\n",
       "      <td>14</td>\n",
       "      <td>86</td>\n",
       "      <td>87</td>\n",
       "      <td>120</td>\n",
       "      <td>8</td>\n",
       "      <td>6</td>\n",
       "      <td>6</td>\n",
       "    </tr>\n",
       "    <tr>\n",
       "      <th>1137</th>\n",
       "      <td>0</td>\n",
       "      <td>64</td>\n",
       "      <td>14</td>\n",
       "      <td>94</td>\n",
       "      <td>120</td>\n",
       "      <td>73</td>\n",
       "      <td>86</td>\n",
       "      <td>100</td>\n",
       "      <td>57</td>\n",
       "      <td>32</td>\n",
       "      <td>98</td>\n",
       "      <td>11</td>\n",
       "      <td>6</td>\n",
       "      <td>6</td>\n",
       "    </tr>\n",
       "  </tbody>\n",
       "</table>\n",
       "<p>978 rows × 14 columns</p>\n",
       "</div>"
      ],
      "text/plain": [
       "      teamWinner  pickRadiant1  pickRadiant2  pickRadiant3  pickRadiant4  \\\n",
       "0              1            86           137           103            53   \n",
       "1              0            85           128            11           110   \n",
       "2              1            43            86            84            60   \n",
       "3              0            69           123            58            54   \n",
       "4              0            74            86           136            10   \n",
       "...          ...           ...           ...           ...           ...   \n",
       "1133           1           126            87            96           109   \n",
       "1134           1            73            33            85            96   \n",
       "1135           1           104           126            75             5   \n",
       "1136           0            73            94            90             2   \n",
       "1137           0            64            14            94           120   \n",
       "\n",
       "      pickRadiant5  pickDire1  pickDire2  pickDire3  pickDire4  pickDire5  \\\n",
       "0               40         52         32         51        106         89   \n",
       "1               48        100        105         30         53         45   \n",
       "2              126         64        105         38         35         10   \n",
       "3              120         86         96         18         91         65   \n",
       "4              108         43         46        100         75         53   \n",
       "...            ...        ...        ...        ...        ...        ...   \n",
       "1133            11        121         69         63        138         89   \n",
       "1134            21         68         75        129          8        106   \n",
       "1135            70        111        106        136         91         73   \n",
       "1136            59         62         14         86         87        120   \n",
       "1137            73         86        100         57         32         98   \n",
       "\n",
       "      numTeamFights  barracksRadiant  barracksDire  \n",
       "0                10                6             0  \n",
       "1                 5                3             6  \n",
       "2                 0                6             4  \n",
       "3                 7                0             4  \n",
       "4                 2                3             6  \n",
       "...             ...              ...           ...  \n",
       "1133              4                6             4  \n",
       "1134              6                6             4  \n",
       "1135              5                6             6  \n",
       "1136              8                6             6  \n",
       "1137             11                6             6  \n",
       "\n",
       "[978 rows x 14 columns]"
      ]
     },
     "execution_count": 1,
     "metadata": {},
     "output_type": "execute_result"
    }
   ],
   "source": [
    "# imports iniciais\n",
    "import pandas as pd\n",
    "import seaborn as sns\n",
    "import matplotlib.pyplot as plt\n",
    "import numpy as np\n",
    "\n",
    "# retirando warnings do jupyter notebook\n",
    "import warnings\n",
    "warnings.filterwarnings('ignore')\n",
    "\n",
    "# leitura e transformação do arquivo em dataframe\n",
    "dados = pd.read_csv('dadosPartidas.csv')\n",
    "dados = dados.drop(columns=['idMatch'])\n",
    "dados['teamWinner'] = dados['teamWinner'].apply(lambda item: 1 if item == 'Radiant' else 0)\n",
    "dados = dados.astype(int)\n",
    "dados = dados.drop_duplicates()\n",
    "\n",
    "# apresentação dos dados\n",
    "dados"
   ]
  },
  {
   "cell_type": "code",
   "execution_count": 2,
   "id": "214e3242",
   "metadata": {},
   "outputs": [
    {
     "data": {
      "text/plain": [
       "<Axes: xlabel='teamWinner', ylabel='count'>"
      ]
     },
     "execution_count": 2,
     "metadata": {},
     "output_type": "execute_result"
    },
    {
     "data": {
      "image/png": "[encoded data removed]",
      "text/plain": [
       "<Figure size 300x300 with 1 Axes>"
      ]
     },
     "metadata": {},
     "output_type": "display_data"
    }
   ],
   "source": [
    "# verificando balanceamento dos dados entre as duas categorias\n",
    "# possíveis do dataset\n",
    "plt.figure(figsize = (3, 3))\n",
    "sns.countplot(x=dados[\"teamWinner\"], palette='rocket')"
   ]
  },
  {
   "cell_type": "markdown",
   "id": "4f1dbe83",
   "metadata": {},
   "source": [
    "### 🟠 Escolha do Modelo\n",
    "\n",
    "Para a escolha do modelo foi levado em consideração o boxplot com a média das acurácias e precisões que cada um dos algoritmos de classificação conseguiu, de forma a escolher o com maior acurácia e precisão, para posteriormente seus paramêtros serão variados para determinar o melhor ajuste."
   ]
  },
  {
   "cell_type": "code",
   "execution_count": 3,
   "id": "9cd72ec2",
   "metadata": {},
   "outputs": [],
   "source": [
    "# import dos modelos testados\n",
    "from sklearn.ensemble import RandomForestClassifier\n",
    "from sklearn.linear_model import LogisticRegression,SGDClassifier\n",
    "from sklearn.tree import DecisionTreeClassifier\n",
    "from sklearn.svm import SVC\n",
    "from sklearn.neural_network import MLPClassifier\n",
    "from sklearn.neighbors import KNeighborsClassifier\n",
    "\n",
    "# import da validação cruzada\n",
    "from sklearn.model_selection import cross_val_score"
   ]
  },
  {
   "cell_type": "code",
   "execution_count": 4,
   "id": "faad6d0b",
   "metadata": {},
   "outputs": [],
   "source": [
    "import numpy as np\n",
    "\n",
    "# criando uma máscara para gerar posições aleatórias\n",
    "# da separação de dados de treino e teste\n",
    "def separarTreinoTeste(dados):\n",
    "    msk = np.random.rand(len(dados)) < 0.8\n",
    "    treino = dados[msk]\n",
    "    teste = dados[~msk]\n",
    "    \n",
    "    return treino, teste"
   ]
  },
  {
   "cell_type": "code",
   "execution_count": 5,
   "id": "98a1ab1c",
   "metadata": {},
   "outputs": [],
   "source": [
    "# separação em treino e teste da base de dados e criação das colunas retiradas\n",
    "treino, teste = separarTreinoTeste(dados)\n",
    "xTreino = treino.drop('teamWinner', axis=1)\n",
    "yTreino = treino['teamWinner']"
   ]
  },
  {
   "cell_type": "code",
   "execution_count": 6,
   "id": "c4dae824",
   "metadata": {},
   "outputs": [
    {
     "data": {
      "text/plain": [
       "<Axes: >"
      ]
     },
     "execution_count": 6,
     "metadata": {},
     "output_type": "execute_result"
    },
    {
     "data": {
      "image/png": "[encoded data removed]",
      "text/plain": [
       "<Figure size 1500x1000 with 1 Axes>"
      ]
     },
     "metadata": {},
     "output_type": "display_data"
    }
   ],
   "source": [
    "model = [RandomForestClassifier(),LogisticRegression(),SGDClassifier(),DecisionTreeClassifier(),KNeighborsClassifier(),SVC(),MLPClassifier()]\n",
    "scores = {}\n",
    "for i in model:\n",
    "    scores[type(i).__name__] = cross_val_score(i, xTreino, yTreino, cv=10)\n",
    "\n",
    "scores = pd.DataFrame.from_dict(scores)\n",
    "plt.figure(figsize = (15,10))\n",
    "sns.boxplot(data = scores, palette='rocket')"
   ]
  },
  {
   "cell_type": "markdown",
   "id": "1b3b48b7",
   "metadata": {},
   "source": [
    "### 🟡 Classificação do Modelo\n",
    "\n",
    "Como pode ser verificado no gráfico gerado anteriormente, o algoritmo com melhores métricas foi o **random forest**, dessa forma sendo feita uma verificação em várias formas de paramêtros do mesmo para determinar o com melhor resultado."
   ]
  },
  {
   "cell_type": "code",
   "execution_count": 7,
   "id": "a4a7c17e",
   "metadata": {},
   "outputs": [],
   "source": [
    "from sklearn.metrics import confusion_matrix, classification_report\n",
    "from sklearn.ensemble import RandomForestClassifier\n",
    "\n",
    "# função para a execução dos resultados obtidos pelo random forest\n",
    "def predicaoRandomForest(treino, teste, colunaTarget, maxDepth=10, nEstimators=100, criterion=\"gini\"):\n",
    "    xTreino = treino.drop(colunaTarget, axis=1)\n",
    "    yTreino = treino[colunaTarget]\n",
    "    xTeste = teste.drop(colunaTarget, axis=1)\n",
    "    yTeste = teste[colunaTarget]\n",
    "    xTreino.shape, yTreino.shape, xTeste.shape\n",
    "    \n",
    "    randomForest = RandomForestClassifier(n_estimators=nEstimators, max_depth=maxDepth, criterion=criterion, random_state=42)\n",
    "    randomForest.fit(xTreino, yTreino)\n",
    "    \n",
    "    return randomForest"
   ]
  },
  {
   "cell_type": "code",
   "execution_count": 8,
   "id": "d6d04a76",
   "metadata": {},
   "outputs": [],
   "source": [
    "from sklearn.metrics import accuracy_score\n",
    "from sklearn.metrics import precision_score\n",
    "from sklearn.metrics import recall_score\n",
    "from sklearn import metrics\n",
    "from sklearn.metrics import f1_score\n",
    "from sklearn.metrics import roc_auc_score\n",
    "from sklearn.metrics import roc_curve, auc\n",
    "\n",
    "def calcularMetricas(yTeste, predicao):\n",
    "    # calculando a acurácia\n",
    "    acuracia = accuracy_score(yTeste, predicao)\n",
    "    \n",
    "    # calculando a precisão\n",
    "    precision = precision_score(yTeste, predicao)\n",
    "\n",
    "    # calculando a revocação\n",
    "    recall = recall_score(yTeste, predicao)\n",
    "\n",
    "    # calculando o f1-score\n",
    "    f1 = f1_score(yTeste, predicao)\n",
    "    \n",
    "    return acuracia, precision, recall, f1"
   ]
  },
  {
   "cell_type": "code",
   "execution_count": 9,
   "id": "a8bfc85a",
   "metadata": {},
   "outputs": [],
   "source": [
    "def registroModelo(acuracia, precisao, recall, f1, modelo, nomeModelo, parametro1, nomeParametro1, parametro2, nomeParametro2, parametro3, nomeParametro3):\n",
    "    with  mlflow.start_run(run_name=nomeModelo):\n",
    "        # registro dos parâmetros\n",
    "        mlflow.log_param(nomeParametro1, parametro1)\n",
    "        mlflow.log_param(nomeParametro2, parametro2)\n",
    "        mlflow.log_param(nomeParametro3, parametro3)\n",
    "        \n",
    "        # registro das métricas\n",
    "        mlflow.log_metric(\"Acurácia\", acuracia)\n",
    "        mlflow.log_metric(\"Precisão\", precisao)\n",
    "        mlflow.log_metric(\"Recall\", recall)\n",
    "        mlflow.log_metric(\"F1-Score\", f1)\n",
    "        \n",
    "        # registro do modelo\n",
    "        mlflow.sklearn.log_model(modelo, \"Modelo\")\n",
    "        mlflow.end_run()"
   ]
  },
  {
   "cell_type": "code",
   "execution_count": 10,
   "id": "a79b5b94",
   "metadata": {},
   "outputs": [],
   "source": [
    "import mlflow\n",
    "import mlflow.sklearn\n",
    "\n",
    "mlflow.set_tracking_uri('http://127.0.0.1:5000')\n",
    "mlflow.set_experiment(experiment_name='Team Winner on Dota 2')\n",
    "\n",
    "tags = {\n",
    "        \"Projeto\": \"Team Winner on Dota 2\",\n",
    "        \"team\": \"Estela\",\n",
    "        \"dataset\": \"dota2teamsprofessionals\"\n",
    "       }"
   ]
  },
  {
   "cell_type": "code",
   "execution_count": 11,
   "id": "02dbb42c",
   "metadata": {},
   "outputs": [
    {
     "name": "stdout",
     "output_type": "stream",
     "text": [
      "Acurácia: 0.8947368421052632\n",
      "\n",
      "Acurácia: 0.8894736842105263\n",
      "\n",
      "Acurácia: 0.8894736842105263\n",
      "\n",
      "Acurácia: 0.8947368421052632\n",
      "\n",
      "Acurácia: 0.8947368421052632\n",
      "\n",
      "Acurácia: 0.8947368421052632\n",
      "\n",
      "Acurácia: 0.9105263157894737\n",
      "\n",
      "Acurácia: 0.9\n",
      "\n",
      "Acurácia: 0.9\n",
      "\n",
      "Acurácia: 0.8842105263157894\n",
      "\n",
      "Acurácia: 0.8842105263157894\n",
      "\n",
      "Acurácia: 0.8842105263157894\n",
      "\n",
      "Acurácia: 0.8894736842105263\n",
      "\n",
      "Acurácia: 0.8947368421052632\n",
      "\n",
      "Acurácia: 0.9\n",
      "\n",
      "Acurácia: 0.9157894736842105\n",
      "\n",
      "Acurácia: 0.9052631578947369\n",
      "\n",
      "Acurácia: 0.9105263157894737\n",
      "\n"
     ]
    }
   ],
   "source": [
    "# base de dados usados para a validação\n",
    "treino, teste = separarTreinoTeste(dados)\n",
    "treinoValidacao, validacao = separarTreinoTeste(treino)\n",
    "xTeste = teste.drop('teamWinner', axis=1)\n",
    "yTeste = teste['teamWinner']\n",
    "\n",
    "criterios = ['gini', 'entropy']\n",
    "estimators = [100, 150, 200]\n",
    "maxDepth = [10, 15, 20]\n",
    "cont = 0\n",
    "\n",
    "for i in range(2):\n",
    "    for j in range(3):\n",
    "        for k in range(3):\n",
    "            randomForest = predicaoRandomForest(treinoValidacao, validacao, 'teamWinner', maxDepth[k], estimators[j], criterios[i])\n",
    "            predicao = randomForest.predict(xTeste)\n",
    "            acuracia, precisao, recall, f1 = calcularMetricas(yTeste, predicao)\n",
    "            \n",
    "            print(\"Acurácia: \"+str(acuracia))\n",
    "            print()\n",
    "            \n",
    "            registroModelo(acuracia, precisao, recall, f1, randomForest, \"Random Forest \"+str(cont), estimators[j], \"N-Estimators\", criterios[i], \"Critério\", maxDepth[k], \"Max Depth\")\n",
    "            cont += 1"
   ]
  },
  {
   "cell_type": "markdown",
   "id": "9c22bb9c",
   "metadata": {},
   "source": [
    "Verificando os resultados apresentados no MLFlow, e ordenando primeiramente pela acurácia, e depois pelo recall e pela precisão o melhor modelo ficou como definido sendo o que possui como critério entropy, com 200 estimators e 10 de altura máxima da árvore."
   ]
  },
  {
   "cell_type": "markdown",
   "id": "71231641",
   "metadata": {},
   "source": [
    "### 🟢 Verificação de Resultados Preditos"
   ]
  },
  {
   "cell_type": "code",
   "execution_count": 24,
   "id": "1342b170",
   "metadata": {},
   "outputs": [
    {
     "name": "stdout",
     "output_type": "stream",
     "text": [
      "Acurácia: 0.9157894736842105\n",
      "Precisão: 0.9438202247191011\n",
      "Recall: 0.8842105263157894\n",
      "F1-Score: 0.9130434782608695\n"
     ]
    }
   ],
   "source": [
    "# colocando variavel com melhor resultado do algoritmo\n",
    "randomForest = predicaoRandomForest(treinoValidacao, validacao, 'teamWinner', 10, 200, \"entropy\")\n",
    "predicao = randomForest.predict(xTeste)\n",
    "acuracia, precisao, recall, f1 = calcularMetricas(yTeste, predicao)\n",
    "\n",
    "print(f'Acurácia: {acuracia}')\n",
    "print(f'Precisão: {precisao}')\n",
    "print(f'Recall: {recall}')\n",
    "print(f'F1-Score: {f1}')"
   ]
  },
  {
   "cell_type": "code",
   "execution_count": 25,
   "id": "90c15338",
   "metadata": {},
   "outputs": [
    {
     "data": {
      "text/plain": [
       "1"
      ]
     },
     "execution_count": 25,
     "metadata": {},
     "output_type": "execute_result"
    }
   ],
   "source": [
    "array = [[1, 2, 3, 4, 5, 6, 7, 8, 9, 13, 4, 3, 3]]\n",
    "randomForest.predict(array)[0]"
   ]
  },
  {
   "cell_type": "code",
   "execution_count": 26,
   "id": "016c3d8d",
   "metadata": {},
   "outputs": [
    {
     "data": {
      "text/plain": [
       "1"
      ]
     },
     "execution_count": 26,
     "metadata": {},
     "output_type": "execute_result"
    }
   ],
   "source": [
    "array = [1, 2, 3, 4, 5, 6, 7, 8, 9, 13, 4, 3, 3]\n",
    "dadosNovos = []\n",
    "dadosNovos.append(0)\n",
    "dadosNovos[0] = array\n",
    "\n",
    "randomForest.predict(dadosNovos)[0]"
   ]
  },
  {
   "cell_type": "code",
   "execution_count": 27,
   "id": "3d002bf6",
   "metadata": {},
   "outputs": [
    {
     "data": {
      "text/plain": [
       "0.52"
      ]
     },
     "execution_count": 27,
     "metadata": {},
     "output_type": "execute_result"
    }
   ],
   "source": [
    "randomForest.predict_proba([[1, 2, 3, 4, 5, 6, 7, 8, 9, 13, 4, 3, 3]])[0][1]"
   ]
  }
 ],
 "metadata": {
  "kernelspec": {
   "display_name": "Python 3 (ipykernel)",
   "language": "python",
   "name": "python3"
  },
  "language_info": {
   "codemirror_mode": {
    "name": "ipython",
    "version": 3
   },
   "file_extension": ".py",
   "mimetype": "text/x-python",
   "name": "python",
   "nbconvert_exporter": "python",
   "pygments_lexer": "ipython3",
   "version": "3.10.6"
  }
 },
 "nbformat": 4,
 "nbformat_minor": 5
}
